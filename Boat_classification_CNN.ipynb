{
 "cells": [
  {
   "cell_type": "markdown",
   "id": "8b6ba63e",
   "metadata": {
    "papermill": {
     "duration": 0.009244,
     "end_time": "2024-06-12T16:32:52.129920",
     "exception": false,
     "start_time": "2024-06-12T16:32:52.120676",
     "status": "completed"
    },
    "tags": []
   },
   "source": [
    "# Yacine Boureghda & Yanis Belami #"
   ]
  },
  {
   "cell_type": "markdown",
   "id": "50978898",
   "metadata": {
    "papermill": {
     "duration": 0.008597,
     "end_time": "2024-06-12T16:32:52.147485",
     "exception": false,
     "start_time": "2024-06-12T16:32:52.138888",
     "status": "completed"
    },
    "tags": []
   },
   "source": [
    "### Importing all necessary libraries"
   ]
  },
  {
   "cell_type": "code",
   "execution_count": 1,
   "id": "6de12c43",
   "metadata": {
    "_cell_guid": "b1076dfc-b9ad-4769-8c92-a6c4dae69d19",
    "_uuid": "8f2839f25d086af736a60e9eeb907d3b93b6e0e5",
    "execution": {
     "iopub.execute_input": "2024-06-12T16:32:52.166781Z",
     "iopub.status.busy": "2024-06-12T16:32:52.166395Z",
     "iopub.status.idle": "2024-06-12T16:33:07.717538Z",
     "shell.execute_reply": "2024-06-12T16:33:07.716514Z"
    },
    "papermill": {
     "duration": 15.563626,
     "end_time": "2024-06-12T16:33:07.719865",
     "exception": false,
     "start_time": "2024-06-12T16:32:52.156239",
     "status": "completed"
    },
    "tags": []
   },
   "outputs": [
    {
     "name": "stderr",
     "output_type": "stream",
     "text": [
      "2024-06-12 16:32:56.672969: E external/local_xla/xla/stream_executor/cuda/cuda_dnn.cc:9261] Unable to register cuDNN factory: Attempting to register factory for plugin cuDNN when one has already been registered\n",
      "2024-06-12 16:32:56.673095: E external/local_xla/xla/stream_executor/cuda/cuda_fft.cc:607] Unable to register cuFFT factory: Attempting to register factory for plugin cuFFT when one has already been registered\n",
      "2024-06-12 16:32:56.811417: E external/local_xla/xla/stream_executor/cuda/cuda_blas.cc:1515] Unable to register cuBLAS factory: Attempting to register factory for plugin cuBLAS when one has already been registered\n"
     ]
    },
    {
     "name": "stdout",
     "output_type": "stream",
     "text": [
      "/kaggle/input/navires-2024-fait-main/ships24.tgz\n"
     ]
    }
   ],
   "source": [
    "import os\n",
    "import shutil\n",
    "from collections import Counter\n",
    "from pathlib import Path\n",
    "import numpy as np\n",
    "import pandas as pd\n",
    "import matplotlib.pyplot as plt\n",
    "from PIL import Image\n",
    "from tqdm import tqdm\n",
    "import cv2\n",
    "import seaborn as sns\n",
    "\n",
    "from sklearn.model_selection import train_test_split, KFold\n",
    "from sklearn.utils.class_weight import compute_class_weight\n",
    "from scipy.stats import zscore\n",
    "from sklearn.metrics import confusion_matrix, classification_report\n",
    "\n",
    "from skimage import exposure\n",
    "from skimage.util import random_noise\n",
    "from skimage.filters import gaussian\n",
    "\n",
    "import tensorflow as tf\n",
    "from tensorflow.keras.preprocessing.image import ImageDataGenerator, load_img, img_to_array\n",
    "from tensorflow.keras.layers import Conv2D, MaxPooling2D, Dropout, Flatten, Dense, LSTM, GlobalAveragePooling2D, SpatialDropout2D, BatchNormalization, Activation, Reshape, TimeDistributed, Input\n",
    "from tensorflow.keras.models import Sequential, model_from_json, Model\n",
    "from tensorflow.keras.optimizers import Adam, Adadelta\n",
    "from tensorflow.keras.callbacks import ReduceLROnPlateau, EarlyStopping, ModelCheckpoint, Callback\n",
    "\n",
    "from keras.regularizers import l2\n",
    "from IPython.display import FileLink\n",
    "from tensorflow.keras.mixed_precision import Policy, set_global_policy\n",
    "from tensorflow.keras.mixed_precision import LossScaleOptimizer\n",
    "\n",
    "for dirname, _, filenames in os.walk('/kaggle/input'):\n",
    "    for filename in filenames:\n",
    "        print(os.path.join(dirname, filename))"
   ]
  },
  {
   "cell_type": "code",
   "execution_count": 2,
   "id": "224ce533",
   "metadata": {
    "execution": {
     "iopub.execute_input": "2024-06-12T16:33:07.739194Z",
     "iopub.status.busy": "2024-06-12T16:33:07.738528Z",
     "iopub.status.idle": "2024-06-12T16:33:15.071399Z",
     "shell.execute_reply": "2024-06-12T16:33:15.070154Z"
    },
    "papermill": {
     "duration": 7.345437,
     "end_time": "2024-06-12T16:33:15.074141",
     "exception": false,
     "start_time": "2024-06-12T16:33:07.728704",
     "status": "completed"
    },
    "tags": []
   },
   "outputs": [
    {
     "name": "stdout",
     "output_type": "stream",
     "text": [
      "/kaggle/working/__notebook__.ipynb  /kaggle/working/test.npy\r\n",
      "\r\n",
      "/kaggle/working/ships_gray:\r\n",
      "coastguard_scaled     cruiser_scaled\tmethanier_scaled  tug_scaled\r\n",
      "containership_scaled  cv_scaled\t\tsmallfish_scaled\r\n",
      "corvette_scaled       destroyer_scaled\tsubmarine_scaled\r\n"
     ]
    }
   ],
   "source": [
    "!tar xzf /kaggle/input/navires-2024-fait-main/ships24.tgz\n",
    "!ls /kaggle/working/*"
   ]
  },
  {
   "cell_type": "markdown",
   "id": "cc154dca",
   "metadata": {
    "papermill": {
     "duration": 0.008684,
     "end_time": "2024-06-12T16:33:15.091904",
     "exception": false,
     "start_time": "2024-06-12T16:33:15.083220",
     "status": "completed"
    },
    "tags": []
   },
   "source": [
    "### Fixed seed for reproducibility"
   ]
  },
  {
   "cell_type": "code",
   "execution_count": 3,
   "id": "95ddf759",
   "metadata": {
    "execution": {
     "iopub.execute_input": "2024-06-12T16:33:15.111519Z",
     "iopub.status.busy": "2024-06-12T16:33:15.111096Z",
     "iopub.status.idle": "2024-06-12T16:33:15.117609Z",
     "shell.execute_reply": "2024-06-12T16:33:15.116609Z"
    },
    "papermill": {
     "duration": 0.01899,
     "end_time": "2024-06-12T16:33:15.119649",
     "exception": false,
     "start_time": "2024-06-12T16:33:15.100659",
     "status": "completed"
    },
    "tags": []
   },
   "outputs": [],
   "source": [
    "# Set random seeds for reproducibility\n",
    "\n",
    "seed_value = 1926\n",
    "np.random.seed(seed_value)\n",
    "tf.random.set_seed(seed_value)\n",
    "\n",
    "# seed for the GPU backend\n",
    "#os.environ['PYTHONHASHSEED'] = str(seed_value)\n",
    "#os.environ['TF_CUDNN_DETERMINISTIC'] = '1'   ### 1 = true anything else = false \n",
    "#os.environ['TF_DETERMINISTIC_OPS'] = '1'\n",
    "\n",
    "# Setting mixed precision policy\n",
    "#policy = Policy('mixed_float16')\n",
    "#set_global_policy(policy)"
   ]
  },
  {
   "cell_type": "markdown",
   "id": "73e5b4df",
   "metadata": {
    "papermill": {
     "duration": 0.009399,
     "end_time": "2024-06-12T16:33:15.137659",
     "exception": false,
     "start_time": "2024-06-12T16:33:15.128260",
     "status": "completed"
    },
    "tags": []
   },
   "source": [
    "### Outlier Detection and Removal\n",
    "\n",
    "In this section, we will perform exploratory data analysis (EDA) to identify and remove outlier images from our dataset based on histogram analysis. Outlier images are those with a high proportion of pixels of the same value, which may indicate poor quality or corrupted images.\n"
   ]
  },
  {
   "cell_type": "code",
   "execution_count": 4,
   "id": "04e40f90",
   "metadata": {
    "execution": {
     "iopub.execute_input": "2024-06-12T16:33:15.156699Z",
     "iopub.status.busy": "2024-06-12T16:33:15.156329Z",
     "iopub.status.idle": "2024-06-12T16:33:42.422671Z",
     "shell.execute_reply": "2024-06-12T16:33:42.421519Z"
    },
    "papermill": {
     "duration": 27.279692,
     "end_time": "2024-06-12T16:33:42.426050",
     "exception": false,
     "start_time": "2024-06-12T16:33:15.146358",
     "status": "completed"
    },
    "tags": []
   },
   "outputs": [
    {
     "name": "stderr",
     "output_type": "stream",
     "text": [
      "Processing submarine_scaled: 100%|██████████| 2847/2847 [00:01<00:00, 1481.84it/s]\n",
      "Processing cv_scaled: 100%|██████████| 2029/2029 [00:01<00:00, 1575.19it/s]\n",
      "Processing tug_scaled: 100%|██████████| 3449/3449 [00:02<00:00, 1555.27it/s]\n",
      "Processing destroyer_scaled: 100%|██████████| 6646/6646 [00:04<00:00, 1562.18it/s]\n",
      "Processing corvette_scaled: 100%|██████████| 2974/2974 [00:01<00:00, 1583.77it/s]\n",
      "Processing smallfish_scaled: 100%|██████████| 3349/3349 [00:02<00:00, 1569.59it/s]\n",
      "Processing cruiser_scaled: 100%|██████████| 6946/6946 [00:04<00:00, 1586.59it/s]\n",
      "Processing containership_scaled: 100%|██████████| 6963/6963 [00:04<00:00, 1623.83it/s]\n",
      "Processing coastguard_scaled: 100%|██████████| 3476/3476 [00:02<00:00, 1547.75it/s]\n",
      "Processing methanier_scaled: 100%|██████████| 3525/3525 [00:02<00:00, 1618.98it/s]"
     ]
    },
    {
     "name": "stdout",
     "output_type": "stream",
     "text": [
      "Total number of outliers removed: 373\n",
      "Outliers details logged in: removed_outliers.log\n"
     ]
    },
    {
     "name": "stderr",
     "output_type": "stream",
     "text": [
      "\n"
     ]
    }
   ],
   "source": [
    "def is_outlier(hist, threshold): #0.4 = 40deleted   #0.3 = 122   #0.35 = 81 #0.2=373\n",
    "    total_pixels = np.sum(hist)\n",
    "    max_pixel_value_proportion = np.max(hist) / total_pixels\n",
    "    return max_pixel_value_proportion > threshold\n",
    "\n",
    "def log_outlier(log_file, subdir, img_name):\n",
    "    with open(log_file, 'a') as f:\n",
    "        f.write(f'{subdir}, {img_name}\\n')\n",
    "\n",
    "def run_eda_and_remove_outliers(data_dir, train_dir, threshold=0.2, outliers_to_print=5, log_file='removed_outliers.log'):\n",
    "    outliers_count = 0\n",
    "    if os.path.exists(log_file):\n",
    "        os.remove(log_file)\n",
    "    subdirectories = [subdir for subdir in os.listdir(data_dir) if os.path.isdir(os.path.join(data_dir, subdir))]\n",
    "\n",
    "    for subdir in subdirectories:\n",
    "        img_names = Path(train_dir).glob(f'{subdir}/*')\n",
    "        pbar = tqdm(list(img_names), desc=f'Processing {subdir}')\n",
    "        for img_name in pbar:\n",
    "            if img_name.is_file():\n",
    "                img = load_img(img_name.as_posix(), color_mode='grayscale')\n",
    "                img_array = img_to_array(img)\n",
    "                hist = cv2.calcHist([img_array], [0], None, [256], [0, 256])\n",
    "                if is_outlier(hist, threshold):\n",
    "                    os.remove(img_name)\n",
    "                    log_outlier(log_file, subdir, img_name.name)\n",
    "                    outliers_count += 1\n",
    "\n",
    "    print(f'Total number of outliers removed: {outliers_count}')\n",
    "    print(f'Outliers details logged in: {log_file}')\n",
    "\n",
    "data_dir = '/kaggle/working/ships_gray/'\n",
    "\n",
    "RUN_EDA = True\n",
    "\n",
    "if RUN_EDA:\n",
    "    run_eda_and_remove_outliers(data_dir, data_dir)\n",
    "else:\n",
    "    print('RUN_EDA is False')"
   ]
  },
  {
   "cell_type": "markdown",
   "id": "4be2243c",
   "metadata": {
    "papermill": {
     "duration": 0.034407,
     "end_time": "2024-06-12T16:33:42.499633",
     "exception": false,
     "start_time": "2024-06-12T16:33:42.465226",
     "status": "completed"
    },
    "tags": []
   },
   "source": [
    "### Data Splitting and Directory Creation\n",
    "\n",
    "In this section, we will split the dataset into training and validation sets. We will create separate directories for training and validation data, and distribute the files accordingly.\n"
   ]
  },
  {
   "cell_type": "code",
   "execution_count": 5,
   "id": "d162e053",
   "metadata": {
    "execution": {
     "iopub.execute_input": "2024-06-12T16:33:42.571626Z",
     "iopub.status.busy": "2024-06-12T16:33:42.571226Z",
     "iopub.status.idle": "2024-06-12T16:33:48.493018Z",
     "shell.execute_reply": "2024-06-12T16:33:48.492008Z"
    },
    "papermill": {
     "duration": 5.960876,
     "end_time": "2024-06-12T16:33:48.495450",
     "exception": false,
     "start_time": "2024-06-12T16:33:42.534574",
     "status": "completed"
    },
    "tags": []
   },
   "outputs": [
    {
     "name": "stdout",
     "output_type": "stream",
     "text": [
      "Data splitting and directory creation completed!\n"
     ]
    }
   ],
   "source": [
    "data_dir = '/kaggle/working/ships_gray/'\n",
    "\n",
    "subdirectories = [subdir for subdir in os.listdir(data_dir) if os.path.isdir(os.path.join(data_dir, subdir))]\n",
    "\n",
    "train_dir = '/kaggle/working/training_data'\n",
    "val_dir = '/kaggle/working/validation_data'\n",
    "\n",
    "os.makedirs(train_dir, exist_ok=True)\n",
    "os.makedirs(val_dir, exist_ok=True)\n",
    "\n",
    "for subdir in subdirectories:\n",
    "    files = os.listdir(os.path.join(data_dir, subdir))\n",
    "    train_files, val_files = train_test_split(files, test_size=0.2, random_state=seed_value)\n",
    "    for file in train_files:\n",
    "        src = os.path.join(data_dir, subdir, file)\n",
    "        dst = os.path.join(train_dir, subdir, file)\n",
    "        os.makedirs(os.path.dirname(dst), exist_ok=True)\n",
    "        shutil.copy(src, dst)  \n",
    "    for file in val_files:\n",
    "        src = os.path.join(data_dir, subdir, file)\n",
    "        dst = os.path.join(val_dir, subdir, file)\n",
    "        os.makedirs(os.path.dirname(dst), exist_ok=True)\n",
    "        shutil.copy(src, dst)  \n",
    "\n",
    "print(\"Data splitting and directory creation completed!\")"
   ]
  },
  {
   "cell_type": "markdown",
   "id": "95d83117",
   "metadata": {
    "papermill": {
     "duration": 0.034976,
     "end_time": "2024-06-12T16:33:48.565316",
     "exception": false,
     "start_time": "2024-06-12T16:33:48.530340",
     "status": "completed"
    },
    "tags": []
   },
   "source": [
    "### Data Augmentation and Data Generator Setup\n",
    "\n",
    "In this section, we will set up data augmentation and data generators for training and validation datasets. Data augmentation helps in improving the generalization of the model by creating variations of the images in the training set. \n",
    "\n",
    "We include the `add_noise_and_blur` function in this notebook, even though it is not used in the final implementation. We initially thought it could be beneficial for enhancing the data, but in practice, it did not provide the desired improvements."
   ]
  },
  {
   "cell_type": "code",
   "execution_count": 6,
   "id": "ce8bf9c2",
   "metadata": {
    "execution": {
     "iopub.execute_input": "2024-06-12T16:33:48.636442Z",
     "iopub.status.busy": "2024-06-12T16:33:48.635504Z",
     "iopub.status.idle": "2024-06-12T16:33:50.238564Z",
     "shell.execute_reply": "2024-06-12T16:33:50.237667Z"
    },
    "papermill": {
     "duration": 1.641842,
     "end_time": "2024-06-12T16:33:50.241161",
     "exception": false,
     "start_time": "2024-06-12T16:33:48.599319",
     "status": "completed"
    },
    "tags": []
   },
   "outputs": [
    {
     "name": "stdout",
     "output_type": "stream",
     "text": [
      "Found 33460 images belonging to 10 classes.\n",
      "Found 8371 images belonging to 10 classes.\n"
     ]
    }
   ],
   "source": [
    "batch_size = 512\n",
    "image_size = (64, 96)\n",
    "\n",
    "batch_size2 = 32\n",
    "image_size2 = (128, 192)\n",
    "\n",
    "def add_noise_and_blur(image, noise_sd=0.001, blur_sigma=0.1):\n",
    "    if image.max() > 1:\n",
    "        image = image / 255.0\n",
    "    noisy_image = random_noise(image, mode='gaussian', var=noise_sd)\n",
    "    #blurred_image = gaussian(noisy_image, sigma=blur_sigma)\n",
    "    noisy_image = np.clip(noisy_image, 0., 1.)  \n",
    "    return noisy_image\n",
    "    \n",
    "train_datagen = ImageDataGenerator(\n",
    "    rescale=1./255,\n",
    "    rotation_range=20,      \n",
    "    width_shift_range=0.1,  \n",
    "    height_shift_range=0.1, \n",
    "    zoom_range=0.2,         \n",
    "    horizontal_flip=True, \n",
    "    #preprocessing_function=add_noise_and_blur\n",
    ")\n",
    "\n",
    "val_datagen = ImageDataGenerator(\n",
    "    rescale=1./255\n",
    ")\n",
    "\n",
    "train_dataset = train_datagen.flow_from_directory(\n",
    "    '/kaggle/working/training_data',\n",
    "    target_size=image_size,\n",
    "    batch_size=batch_size,\n",
    "    color_mode='grayscale',\n",
    "    class_mode='categorical',\n",
    ")\n",
    "\n",
    "validation_dataset = val_datagen.flow_from_directory(\n",
    "    '/kaggle/working/validation_data',\n",
    "    target_size=image_size,\n",
    "    batch_size=batch_size,\n",
    "    color_mode='grayscale',\n",
    "    class_mode='categorical',\n",
    ")"
   ]
  },
  {
   "cell_type": "markdown",
   "id": "cbb5888a",
   "metadata": {
    "papermill": {
     "duration": 0.035571,
     "end_time": "2024-06-12T16:33:50.312751",
     "exception": false,
     "start_time": "2024-06-12T16:33:50.277180",
     "status": "completed"
    },
    "tags": []
   },
   "source": [
    "### Strategy for Enhancing Accuracy\n",
    "\n",
    "Based on insights from several research papers, we employed a strategy of training the same model with different parameters in several phases. Initially, we used low-resolution images with a large batch size, followed by high-resolution images with a smaller batch size. This approach aims to balance computational efficiency and model accuracy.\n",
    "\n",
    "After multiple trials and errors, we found that reducing the resolution by half and adjusting the batch size accordingly yielded the best results. Using a very large batch size in the beginning did not provide significant improvements in accuracy, while too small a batch size was time-consuming without offering better accuracy. \n",
    "\n",
    "At the end of this notebook, we have provided references to the research papers that guided our approach."
   ]
  },
  {
   "cell_type": "markdown",
   "id": "63c40da2",
   "metadata": {
    "papermill": {
     "duration": 0.03576,
     "end_time": "2024-06-12T16:33:50.384207",
     "exception": false,
     "start_time": "2024-06-12T16:33:50.348447",
     "status": "completed"
    },
    "tags": []
   },
   "source": [
    "### Model Architecture Creation\n",
    "\n",
    "In this section, we define a function to create a Convolutional Neural Network (CNN) model using the Keras Sequential API. The model consists of several convolutional layers, batch normalization layers, max pooling layers, dropout layers, and fully connected layers.\n",
    "\n",
    "We experimented with several state-of-the-art CNN architectures, including ResNet, DenseNet, InceptionNet, AlexNet, and GoogLeNet, aiming to reduce them to less than 30 layers. However, the most effective model, both computationally and in terms of accuracy, turned out to be a tuned version of the VGG architecture, which we describe below."
   ]
  },
  {
   "cell_type": "code",
   "execution_count": 7,
   "id": "c4a39afb",
   "metadata": {
    "execution": {
     "iopub.execute_input": "2024-06-12T16:33:50.458799Z",
     "iopub.status.busy": "2024-06-12T16:33:50.458403Z",
     "iopub.status.idle": "2024-06-12T16:33:51.806530Z",
     "shell.execute_reply": "2024-06-12T16:33:51.805514Z"
    },
    "papermill": {
     "duration": 1.389589,
     "end_time": "2024-06-12T16:33:51.810479",
     "exception": false,
     "start_time": "2024-06-12T16:33:50.420890",
     "status": "completed"
    },
    "tags": []
   },
   "outputs": [
    {
     "name": "stderr",
     "output_type": "stream",
     "text": [
      "/opt/conda/lib/python3.10/site-packages/keras/src/layers/convolutional/base_conv.py:99: UserWarning: Do not pass an `input_shape`/`input_dim` argument to a layer. When using Sequential models, prefer using an `Input(shape)` object as the first layer in the model instead.\n",
      "  super().__init__(\n"
     ]
    },
    {
     "name": "stdout",
     "output_type": "stream",
     "text": [
      "Nombre de couches :  29\n",
      "ok\n"
     ]
    },
    {
     "data": {
      "text/html": [
       "<pre style=\"white-space:pre;overflow-x:auto;line-height:normal;font-family:Menlo,'DejaVu Sans Mono',consolas,'Courier New',monospace\"><span style=\"font-weight: bold\">Model: \"sequential\"</span>\n",
       "</pre>\n"
      ],
      "text/plain": [
       "\u001b[1mModel: \"sequential\"\u001b[0m\n"
      ]
     },
     "metadata": {},
     "output_type": "display_data"
    },
    {
     "data": {
      "text/html": [
       "<pre style=\"white-space:pre;overflow-x:auto;line-height:normal;font-family:Menlo,'DejaVu Sans Mono',consolas,'Courier New',monospace\">┏━━━━━━━━━━━━━━━━━━━━━━━━━━━━━━━━━┳━━━━━━━━━━━━━━━━━━━━━━━━┳━━━━━━━━━━━━━━━┓\n",
       "┃<span style=\"font-weight: bold\"> Layer (type)                    </span>┃<span style=\"font-weight: bold\"> Output Shape           </span>┃<span style=\"font-weight: bold\">       Param # </span>┃\n",
       "┡━━━━━━━━━━━━━━━━━━━━━━━━━━━━━━━━━╇━━━━━━━━━━━━━━━━━━━━━━━━╇━━━━━━━━━━━━━━━┩\n",
       "│ conv2d (<span style=\"color: #0087ff; text-decoration-color: #0087ff\">Conv2D</span>)                 │ (<span style=\"color: #00d7ff; text-decoration-color: #00d7ff\">None</span>, <span style=\"color: #00af00; text-decoration-color: #00af00\">64</span>, <span style=\"color: #00af00; text-decoration-color: #00af00\">96</span>, <span style=\"color: #00af00; text-decoration-color: #00af00\">128</span>)    │         <span style=\"color: #00af00; text-decoration-color: #00af00\">1,280</span> │\n",
       "├─────────────────────────────────┼────────────────────────┼───────────────┤\n",
       "│ batch_normalization             │ (<span style=\"color: #00d7ff; text-decoration-color: #00d7ff\">None</span>, <span style=\"color: #00af00; text-decoration-color: #00af00\">64</span>, <span style=\"color: #00af00; text-decoration-color: #00af00\">96</span>, <span style=\"color: #00af00; text-decoration-color: #00af00\">128</span>)    │           <span style=\"color: #00af00; text-decoration-color: #00af00\">512</span> │\n",
       "│ (<span style=\"color: #0087ff; text-decoration-color: #0087ff\">BatchNormalization</span>)            │                        │               │\n",
       "├─────────────────────────────────┼────────────────────────┼───────────────┤\n",
       "│ conv2d_1 (<span style=\"color: #0087ff; text-decoration-color: #0087ff\">Conv2D</span>)               │ (<span style=\"color: #00d7ff; text-decoration-color: #00d7ff\">None</span>, <span style=\"color: #00af00; text-decoration-color: #00af00\">64</span>, <span style=\"color: #00af00; text-decoration-color: #00af00\">96</span>, <span style=\"color: #00af00; text-decoration-color: #00af00\">128</span>)    │       <span style=\"color: #00af00; text-decoration-color: #00af00\">147,584</span> │\n",
       "├─────────────────────────────────┼────────────────────────┼───────────────┤\n",
       "│ batch_normalization_1           │ (<span style=\"color: #00d7ff; text-decoration-color: #00d7ff\">None</span>, <span style=\"color: #00af00; text-decoration-color: #00af00\">64</span>, <span style=\"color: #00af00; text-decoration-color: #00af00\">96</span>, <span style=\"color: #00af00; text-decoration-color: #00af00\">128</span>)    │           <span style=\"color: #00af00; text-decoration-color: #00af00\">512</span> │\n",
       "│ (<span style=\"color: #0087ff; text-decoration-color: #0087ff\">BatchNormalization</span>)            │                        │               │\n",
       "├─────────────────────────────────┼────────────────────────┼───────────────┤\n",
       "│ max_pooling2d (<span style=\"color: #0087ff; text-decoration-color: #0087ff\">MaxPooling2D</span>)    │ (<span style=\"color: #00d7ff; text-decoration-color: #00d7ff\">None</span>, <span style=\"color: #00af00; text-decoration-color: #00af00\">32</span>, <span style=\"color: #00af00; text-decoration-color: #00af00\">48</span>, <span style=\"color: #00af00; text-decoration-color: #00af00\">128</span>)    │             <span style=\"color: #00af00; text-decoration-color: #00af00\">0</span> │\n",
       "├─────────────────────────────────┼────────────────────────┼───────────────┤\n",
       "│ dropout (<span style=\"color: #0087ff; text-decoration-color: #0087ff\">Dropout</span>)               │ (<span style=\"color: #00d7ff; text-decoration-color: #00d7ff\">None</span>, <span style=\"color: #00af00; text-decoration-color: #00af00\">32</span>, <span style=\"color: #00af00; text-decoration-color: #00af00\">48</span>, <span style=\"color: #00af00; text-decoration-color: #00af00\">128</span>)    │             <span style=\"color: #00af00; text-decoration-color: #00af00\">0</span> │\n",
       "├─────────────────────────────────┼────────────────────────┼───────────────┤\n",
       "│ conv2d_2 (<span style=\"color: #0087ff; text-decoration-color: #0087ff\">Conv2D</span>)               │ (<span style=\"color: #00d7ff; text-decoration-color: #00d7ff\">None</span>, <span style=\"color: #00af00; text-decoration-color: #00af00\">32</span>, <span style=\"color: #00af00; text-decoration-color: #00af00\">48</span>, <span style=\"color: #00af00; text-decoration-color: #00af00\">256</span>)    │       <span style=\"color: #00af00; text-decoration-color: #00af00\">295,168</span> │\n",
       "├─────────────────────────────────┼────────────────────────┼───────────────┤\n",
       "│ batch_normalization_2           │ (<span style=\"color: #00d7ff; text-decoration-color: #00d7ff\">None</span>, <span style=\"color: #00af00; text-decoration-color: #00af00\">32</span>, <span style=\"color: #00af00; text-decoration-color: #00af00\">48</span>, <span style=\"color: #00af00; text-decoration-color: #00af00\">256</span>)    │         <span style=\"color: #00af00; text-decoration-color: #00af00\">1,024</span> │\n",
       "│ (<span style=\"color: #0087ff; text-decoration-color: #0087ff\">BatchNormalization</span>)            │                        │               │\n",
       "├─────────────────────────────────┼────────────────────────┼───────────────┤\n",
       "│ conv2d_3 (<span style=\"color: #0087ff; text-decoration-color: #0087ff\">Conv2D</span>)               │ (<span style=\"color: #00d7ff; text-decoration-color: #00d7ff\">None</span>, <span style=\"color: #00af00; text-decoration-color: #00af00\">32</span>, <span style=\"color: #00af00; text-decoration-color: #00af00\">48</span>, <span style=\"color: #00af00; text-decoration-color: #00af00\">256</span>)    │       <span style=\"color: #00af00; text-decoration-color: #00af00\">590,080</span> │\n",
       "├─────────────────────────────────┼────────────────────────┼───────────────┤\n",
       "│ batch_normalization_3           │ (<span style=\"color: #00d7ff; text-decoration-color: #00d7ff\">None</span>, <span style=\"color: #00af00; text-decoration-color: #00af00\">32</span>, <span style=\"color: #00af00; text-decoration-color: #00af00\">48</span>, <span style=\"color: #00af00; text-decoration-color: #00af00\">256</span>)    │         <span style=\"color: #00af00; text-decoration-color: #00af00\">1,024</span> │\n",
       "│ (<span style=\"color: #0087ff; text-decoration-color: #0087ff\">BatchNormalization</span>)            │                        │               │\n",
       "├─────────────────────────────────┼────────────────────────┼───────────────┤\n",
       "│ max_pooling2d_1 (<span style=\"color: #0087ff; text-decoration-color: #0087ff\">MaxPooling2D</span>)  │ (<span style=\"color: #00d7ff; text-decoration-color: #00d7ff\">None</span>, <span style=\"color: #00af00; text-decoration-color: #00af00\">16</span>, <span style=\"color: #00af00; text-decoration-color: #00af00\">24</span>, <span style=\"color: #00af00; text-decoration-color: #00af00\">256</span>)    │             <span style=\"color: #00af00; text-decoration-color: #00af00\">0</span> │\n",
       "├─────────────────────────────────┼────────────────────────┼───────────────┤\n",
       "│ dropout_1 (<span style=\"color: #0087ff; text-decoration-color: #0087ff\">Dropout</span>)             │ (<span style=\"color: #00d7ff; text-decoration-color: #00d7ff\">None</span>, <span style=\"color: #00af00; text-decoration-color: #00af00\">16</span>, <span style=\"color: #00af00; text-decoration-color: #00af00\">24</span>, <span style=\"color: #00af00; text-decoration-color: #00af00\">256</span>)    │             <span style=\"color: #00af00; text-decoration-color: #00af00\">0</span> │\n",
       "├─────────────────────────────────┼────────────────────────┼───────────────┤\n",
       "│ conv2d_4 (<span style=\"color: #0087ff; text-decoration-color: #0087ff\">Conv2D</span>)               │ (<span style=\"color: #00d7ff; text-decoration-color: #00d7ff\">None</span>, <span style=\"color: #00af00; text-decoration-color: #00af00\">16</span>, <span style=\"color: #00af00; text-decoration-color: #00af00\">24</span>, <span style=\"color: #00af00; text-decoration-color: #00af00\">512</span>)    │     <span style=\"color: #00af00; text-decoration-color: #00af00\">1,180,160</span> │\n",
       "├─────────────────────────────────┼────────────────────────┼───────────────┤\n",
       "│ batch_normalization_4           │ (<span style=\"color: #00d7ff; text-decoration-color: #00d7ff\">None</span>, <span style=\"color: #00af00; text-decoration-color: #00af00\">16</span>, <span style=\"color: #00af00; text-decoration-color: #00af00\">24</span>, <span style=\"color: #00af00; text-decoration-color: #00af00\">512</span>)    │         <span style=\"color: #00af00; text-decoration-color: #00af00\">2,048</span> │\n",
       "│ (<span style=\"color: #0087ff; text-decoration-color: #0087ff\">BatchNormalization</span>)            │                        │               │\n",
       "├─────────────────────────────────┼────────────────────────┼───────────────┤\n",
       "│ conv2d_5 (<span style=\"color: #0087ff; text-decoration-color: #0087ff\">Conv2D</span>)               │ (<span style=\"color: #00d7ff; text-decoration-color: #00d7ff\">None</span>, <span style=\"color: #00af00; text-decoration-color: #00af00\">16</span>, <span style=\"color: #00af00; text-decoration-color: #00af00\">24</span>, <span style=\"color: #00af00; text-decoration-color: #00af00\">512</span>)    │     <span style=\"color: #00af00; text-decoration-color: #00af00\">2,359,808</span> │\n",
       "├─────────────────────────────────┼────────────────────────┼───────────────┤\n",
       "│ batch_normalization_5           │ (<span style=\"color: #00d7ff; text-decoration-color: #00d7ff\">None</span>, <span style=\"color: #00af00; text-decoration-color: #00af00\">16</span>, <span style=\"color: #00af00; text-decoration-color: #00af00\">24</span>, <span style=\"color: #00af00; text-decoration-color: #00af00\">512</span>)    │         <span style=\"color: #00af00; text-decoration-color: #00af00\">2,048</span> │\n",
       "│ (<span style=\"color: #0087ff; text-decoration-color: #0087ff\">BatchNormalization</span>)            │                        │               │\n",
       "├─────────────────────────────────┼────────────────────────┼───────────────┤\n",
       "│ max_pooling2d_2 (<span style=\"color: #0087ff; text-decoration-color: #0087ff\">MaxPooling2D</span>)  │ (<span style=\"color: #00d7ff; text-decoration-color: #00d7ff\">None</span>, <span style=\"color: #00af00; text-decoration-color: #00af00\">8</span>, <span style=\"color: #00af00; text-decoration-color: #00af00\">12</span>, <span style=\"color: #00af00; text-decoration-color: #00af00\">512</span>)     │             <span style=\"color: #00af00; text-decoration-color: #00af00\">0</span> │\n",
       "├─────────────────────────────────┼────────────────────────┼───────────────┤\n",
       "│ dropout_2 (<span style=\"color: #0087ff; text-decoration-color: #0087ff\">Dropout</span>)             │ (<span style=\"color: #00d7ff; text-decoration-color: #00d7ff\">None</span>, <span style=\"color: #00af00; text-decoration-color: #00af00\">8</span>, <span style=\"color: #00af00; text-decoration-color: #00af00\">12</span>, <span style=\"color: #00af00; text-decoration-color: #00af00\">512</span>)     │             <span style=\"color: #00af00; text-decoration-color: #00af00\">0</span> │\n",
       "├─────────────────────────────────┼────────────────────────┼───────────────┤\n",
       "│ conv2d_6 (<span style=\"color: #0087ff; text-decoration-color: #0087ff\">Conv2D</span>)               │ (<span style=\"color: #00d7ff; text-decoration-color: #00d7ff\">None</span>, <span style=\"color: #00af00; text-decoration-color: #00af00\">8</span>, <span style=\"color: #00af00; text-decoration-color: #00af00\">12</span>, <span style=\"color: #00af00; text-decoration-color: #00af00\">512</span>)     │     <span style=\"color: #00af00; text-decoration-color: #00af00\">2,359,808</span> │\n",
       "├─────────────────────────────────┼────────────────────────┼───────────────┤\n",
       "│ batch_normalization_6           │ (<span style=\"color: #00d7ff; text-decoration-color: #00d7ff\">None</span>, <span style=\"color: #00af00; text-decoration-color: #00af00\">8</span>, <span style=\"color: #00af00; text-decoration-color: #00af00\">12</span>, <span style=\"color: #00af00; text-decoration-color: #00af00\">512</span>)     │         <span style=\"color: #00af00; text-decoration-color: #00af00\">2,048</span> │\n",
       "│ (<span style=\"color: #0087ff; text-decoration-color: #0087ff\">BatchNormalization</span>)            │                        │               │\n",
       "├─────────────────────────────────┼────────────────────────┼───────────────┤\n",
       "│ conv2d_7 (<span style=\"color: #0087ff; text-decoration-color: #0087ff\">Conv2D</span>)               │ (<span style=\"color: #00d7ff; text-decoration-color: #00d7ff\">None</span>, <span style=\"color: #00af00; text-decoration-color: #00af00\">8</span>, <span style=\"color: #00af00; text-decoration-color: #00af00\">12</span>, <span style=\"color: #00af00; text-decoration-color: #00af00\">512</span>)     │     <span style=\"color: #00af00; text-decoration-color: #00af00\">2,359,808</span> │\n",
       "├─────────────────────────────────┼────────────────────────┼───────────────┤\n",
       "│ batch_normalization_7           │ (<span style=\"color: #00d7ff; text-decoration-color: #00d7ff\">None</span>, <span style=\"color: #00af00; text-decoration-color: #00af00\">8</span>, <span style=\"color: #00af00; text-decoration-color: #00af00\">12</span>, <span style=\"color: #00af00; text-decoration-color: #00af00\">512</span>)     │         <span style=\"color: #00af00; text-decoration-color: #00af00\">2,048</span> │\n",
       "│ (<span style=\"color: #0087ff; text-decoration-color: #0087ff\">BatchNormalization</span>)            │                        │               │\n",
       "├─────────────────────────────────┼────────────────────────┼───────────────┤\n",
       "│ max_pooling2d_3 (<span style=\"color: #0087ff; text-decoration-color: #0087ff\">MaxPooling2D</span>)  │ (<span style=\"color: #00d7ff; text-decoration-color: #00d7ff\">None</span>, <span style=\"color: #00af00; text-decoration-color: #00af00\">4</span>, <span style=\"color: #00af00; text-decoration-color: #00af00\">6</span>, <span style=\"color: #00af00; text-decoration-color: #00af00\">512</span>)      │             <span style=\"color: #00af00; text-decoration-color: #00af00\">0</span> │\n",
       "├─────────────────────────────────┼────────────────────────┼───────────────┤\n",
       "│ dropout_3 (<span style=\"color: #0087ff; text-decoration-color: #0087ff\">Dropout</span>)             │ (<span style=\"color: #00d7ff; text-decoration-color: #00d7ff\">None</span>, <span style=\"color: #00af00; text-decoration-color: #00af00\">4</span>, <span style=\"color: #00af00; text-decoration-color: #00af00\">6</span>, <span style=\"color: #00af00; text-decoration-color: #00af00\">512</span>)      │             <span style=\"color: #00af00; text-decoration-color: #00af00\">0</span> │\n",
       "├─────────────────────────────────┼────────────────────────┼───────────────┤\n",
       "│ global_average_pooling2d        │ (<span style=\"color: #00d7ff; text-decoration-color: #00d7ff\">None</span>, <span style=\"color: #00af00; text-decoration-color: #00af00\">512</span>)            │             <span style=\"color: #00af00; text-decoration-color: #00af00\">0</span> │\n",
       "│ (<span style=\"color: #0087ff; text-decoration-color: #0087ff\">GlobalAveragePooling2D</span>)        │                        │               │\n",
       "├─────────────────────────────────┼────────────────────────┼───────────────┤\n",
       "│ dropout_4 (<span style=\"color: #0087ff; text-decoration-color: #0087ff\">Dropout</span>)             │ (<span style=\"color: #00d7ff; text-decoration-color: #00d7ff\">None</span>, <span style=\"color: #00af00; text-decoration-color: #00af00\">512</span>)            │             <span style=\"color: #00af00; text-decoration-color: #00af00\">0</span> │\n",
       "├─────────────────────────────────┼────────────────────────┼───────────────┤\n",
       "│ dense (<span style=\"color: #0087ff; text-decoration-color: #0087ff\">Dense</span>)                   │ (<span style=\"color: #00d7ff; text-decoration-color: #00d7ff\">None</span>, <span style=\"color: #00af00; text-decoration-color: #00af00\">1024</span>)           │       <span style=\"color: #00af00; text-decoration-color: #00af00\">525,312</span> │\n",
       "├─────────────────────────────────┼────────────────────────┼───────────────┤\n",
       "│ dense_1 (<span style=\"color: #0087ff; text-decoration-color: #0087ff\">Dense</span>)                 │ (<span style=\"color: #00d7ff; text-decoration-color: #00d7ff\">None</span>, <span style=\"color: #00af00; text-decoration-color: #00af00\">128</span>)            │       <span style=\"color: #00af00; text-decoration-color: #00af00\">131,200</span> │\n",
       "├─────────────────────────────────┼────────────────────────┼───────────────┤\n",
       "│ dense_2 (<span style=\"color: #0087ff; text-decoration-color: #0087ff\">Dense</span>)                 │ (<span style=\"color: #00d7ff; text-decoration-color: #00d7ff\">None</span>, <span style=\"color: #00af00; text-decoration-color: #00af00\">10</span>)             │         <span style=\"color: #00af00; text-decoration-color: #00af00\">1,290</span> │\n",
       "└─────────────────────────────────┴────────────────────────┴───────────────┘\n",
       "</pre>\n"
      ],
      "text/plain": [
       "┏━━━━━━━━━━━━━━━━━━━━━━━━━━━━━━━━━┳━━━━━━━━━━━━━━━━━━━━━━━━┳━━━━━━━━━━━━━━━┓\n",
       "┃\u001b[1m \u001b[0m\u001b[1mLayer (type)                   \u001b[0m\u001b[1m \u001b[0m┃\u001b[1m \u001b[0m\u001b[1mOutput Shape          \u001b[0m\u001b[1m \u001b[0m┃\u001b[1m \u001b[0m\u001b[1m      Param #\u001b[0m\u001b[1m \u001b[0m┃\n",
       "┡━━━━━━━━━━━━━━━━━━━━━━━━━━━━━━━━━╇━━━━━━━━━━━━━━━━━━━━━━━━╇━━━━━━━━━━━━━━━┩\n",
       "│ conv2d (\u001b[38;5;33mConv2D\u001b[0m)                 │ (\u001b[38;5;45mNone\u001b[0m, \u001b[38;5;34m64\u001b[0m, \u001b[38;5;34m96\u001b[0m, \u001b[38;5;34m128\u001b[0m)    │         \u001b[38;5;34m1,280\u001b[0m │\n",
       "├─────────────────────────────────┼────────────────────────┼───────────────┤\n",
       "│ batch_normalization             │ (\u001b[38;5;45mNone\u001b[0m, \u001b[38;5;34m64\u001b[0m, \u001b[38;5;34m96\u001b[0m, \u001b[38;5;34m128\u001b[0m)    │           \u001b[38;5;34m512\u001b[0m │\n",
       "│ (\u001b[38;5;33mBatchNormalization\u001b[0m)            │                        │               │\n",
       "├─────────────────────────────────┼────────────────────────┼───────────────┤\n",
       "│ conv2d_1 (\u001b[38;5;33mConv2D\u001b[0m)               │ (\u001b[38;5;45mNone\u001b[0m, \u001b[38;5;34m64\u001b[0m, \u001b[38;5;34m96\u001b[0m, \u001b[38;5;34m128\u001b[0m)    │       \u001b[38;5;34m147,584\u001b[0m │\n",
       "├─────────────────────────────────┼────────────────────────┼───────────────┤\n",
       "│ batch_normalization_1           │ (\u001b[38;5;45mNone\u001b[0m, \u001b[38;5;34m64\u001b[0m, \u001b[38;5;34m96\u001b[0m, \u001b[38;5;34m128\u001b[0m)    │           \u001b[38;5;34m512\u001b[0m │\n",
       "│ (\u001b[38;5;33mBatchNormalization\u001b[0m)            │                        │               │\n",
       "├─────────────────────────────────┼────────────────────────┼───────────────┤\n",
       "│ max_pooling2d (\u001b[38;5;33mMaxPooling2D\u001b[0m)    │ (\u001b[38;5;45mNone\u001b[0m, \u001b[38;5;34m32\u001b[0m, \u001b[38;5;34m48\u001b[0m, \u001b[38;5;34m128\u001b[0m)    │             \u001b[38;5;34m0\u001b[0m │\n",
       "├─────────────────────────────────┼────────────────────────┼───────────────┤\n",
       "│ dropout (\u001b[38;5;33mDropout\u001b[0m)               │ (\u001b[38;5;45mNone\u001b[0m, \u001b[38;5;34m32\u001b[0m, \u001b[38;5;34m48\u001b[0m, \u001b[38;5;34m128\u001b[0m)    │             \u001b[38;5;34m0\u001b[0m │\n",
       "├─────────────────────────────────┼────────────────────────┼───────────────┤\n",
       "│ conv2d_2 (\u001b[38;5;33mConv2D\u001b[0m)               │ (\u001b[38;5;45mNone\u001b[0m, \u001b[38;5;34m32\u001b[0m, \u001b[38;5;34m48\u001b[0m, \u001b[38;5;34m256\u001b[0m)    │       \u001b[38;5;34m295,168\u001b[0m │\n",
       "├─────────────────────────────────┼────────────────────────┼───────────────┤\n",
       "│ batch_normalization_2           │ (\u001b[38;5;45mNone\u001b[0m, \u001b[38;5;34m32\u001b[0m, \u001b[38;5;34m48\u001b[0m, \u001b[38;5;34m256\u001b[0m)    │         \u001b[38;5;34m1,024\u001b[0m │\n",
       "│ (\u001b[38;5;33mBatchNormalization\u001b[0m)            │                        │               │\n",
       "├─────────────────────────────────┼────────────────────────┼───────────────┤\n",
       "│ conv2d_3 (\u001b[38;5;33mConv2D\u001b[0m)               │ (\u001b[38;5;45mNone\u001b[0m, \u001b[38;5;34m32\u001b[0m, \u001b[38;5;34m48\u001b[0m, \u001b[38;5;34m256\u001b[0m)    │       \u001b[38;5;34m590,080\u001b[0m │\n",
       "├─────────────────────────────────┼────────────────────────┼───────────────┤\n",
       "│ batch_normalization_3           │ (\u001b[38;5;45mNone\u001b[0m, \u001b[38;5;34m32\u001b[0m, \u001b[38;5;34m48\u001b[0m, \u001b[38;5;34m256\u001b[0m)    │         \u001b[38;5;34m1,024\u001b[0m │\n",
       "│ (\u001b[38;5;33mBatchNormalization\u001b[0m)            │                        │               │\n",
       "├─────────────────────────────────┼────────────────────────┼───────────────┤\n",
       "│ max_pooling2d_1 (\u001b[38;5;33mMaxPooling2D\u001b[0m)  │ (\u001b[38;5;45mNone\u001b[0m, \u001b[38;5;34m16\u001b[0m, \u001b[38;5;34m24\u001b[0m, \u001b[38;5;34m256\u001b[0m)    │             \u001b[38;5;34m0\u001b[0m │\n",
       "├─────────────────────────────────┼────────────────────────┼───────────────┤\n",
       "│ dropout_1 (\u001b[38;5;33mDropout\u001b[0m)             │ (\u001b[38;5;45mNone\u001b[0m, \u001b[38;5;34m16\u001b[0m, \u001b[38;5;34m24\u001b[0m, \u001b[38;5;34m256\u001b[0m)    │             \u001b[38;5;34m0\u001b[0m │\n",
       "├─────────────────────────────────┼────────────────────────┼───────────────┤\n",
       "│ conv2d_4 (\u001b[38;5;33mConv2D\u001b[0m)               │ (\u001b[38;5;45mNone\u001b[0m, \u001b[38;5;34m16\u001b[0m, \u001b[38;5;34m24\u001b[0m, \u001b[38;5;34m512\u001b[0m)    │     \u001b[38;5;34m1,180,160\u001b[0m │\n",
       "├─────────────────────────────────┼────────────────────────┼───────────────┤\n",
       "│ batch_normalization_4           │ (\u001b[38;5;45mNone\u001b[0m, \u001b[38;5;34m16\u001b[0m, \u001b[38;5;34m24\u001b[0m, \u001b[38;5;34m512\u001b[0m)    │         \u001b[38;5;34m2,048\u001b[0m │\n",
       "│ (\u001b[38;5;33mBatchNormalization\u001b[0m)            │                        │               │\n",
       "├─────────────────────────────────┼────────────────────────┼───────────────┤\n",
       "│ conv2d_5 (\u001b[38;5;33mConv2D\u001b[0m)               │ (\u001b[38;5;45mNone\u001b[0m, \u001b[38;5;34m16\u001b[0m, \u001b[38;5;34m24\u001b[0m, \u001b[38;5;34m512\u001b[0m)    │     \u001b[38;5;34m2,359,808\u001b[0m │\n",
       "├─────────────────────────────────┼────────────────────────┼───────────────┤\n",
       "│ batch_normalization_5           │ (\u001b[38;5;45mNone\u001b[0m, \u001b[38;5;34m16\u001b[0m, \u001b[38;5;34m24\u001b[0m, \u001b[38;5;34m512\u001b[0m)    │         \u001b[38;5;34m2,048\u001b[0m │\n",
       "│ (\u001b[38;5;33mBatchNormalization\u001b[0m)            │                        │               │\n",
       "├─────────────────────────────────┼────────────────────────┼───────────────┤\n",
       "│ max_pooling2d_2 (\u001b[38;5;33mMaxPooling2D\u001b[0m)  │ (\u001b[38;5;45mNone\u001b[0m, \u001b[38;5;34m8\u001b[0m, \u001b[38;5;34m12\u001b[0m, \u001b[38;5;34m512\u001b[0m)     │             \u001b[38;5;34m0\u001b[0m │\n",
       "├─────────────────────────────────┼────────────────────────┼───────────────┤\n",
       "│ dropout_2 (\u001b[38;5;33mDropout\u001b[0m)             │ (\u001b[38;5;45mNone\u001b[0m, \u001b[38;5;34m8\u001b[0m, \u001b[38;5;34m12\u001b[0m, \u001b[38;5;34m512\u001b[0m)     │             \u001b[38;5;34m0\u001b[0m │\n",
       "├─────────────────────────────────┼────────────────────────┼───────────────┤\n",
       "│ conv2d_6 (\u001b[38;5;33mConv2D\u001b[0m)               │ (\u001b[38;5;45mNone\u001b[0m, \u001b[38;5;34m8\u001b[0m, \u001b[38;5;34m12\u001b[0m, \u001b[38;5;34m512\u001b[0m)     │     \u001b[38;5;34m2,359,808\u001b[0m │\n",
       "├─────────────────────────────────┼────────────────────────┼───────────────┤\n",
       "│ batch_normalization_6           │ (\u001b[38;5;45mNone\u001b[0m, \u001b[38;5;34m8\u001b[0m, \u001b[38;5;34m12\u001b[0m, \u001b[38;5;34m512\u001b[0m)     │         \u001b[38;5;34m2,048\u001b[0m │\n",
       "│ (\u001b[38;5;33mBatchNormalization\u001b[0m)            │                        │               │\n",
       "├─────────────────────────────────┼────────────────────────┼───────────────┤\n",
       "│ conv2d_7 (\u001b[38;5;33mConv2D\u001b[0m)               │ (\u001b[38;5;45mNone\u001b[0m, \u001b[38;5;34m8\u001b[0m, \u001b[38;5;34m12\u001b[0m, \u001b[38;5;34m512\u001b[0m)     │     \u001b[38;5;34m2,359,808\u001b[0m │\n",
       "├─────────────────────────────────┼────────────────────────┼───────────────┤\n",
       "│ batch_normalization_7           │ (\u001b[38;5;45mNone\u001b[0m, \u001b[38;5;34m8\u001b[0m, \u001b[38;5;34m12\u001b[0m, \u001b[38;5;34m512\u001b[0m)     │         \u001b[38;5;34m2,048\u001b[0m │\n",
       "│ (\u001b[38;5;33mBatchNormalization\u001b[0m)            │                        │               │\n",
       "├─────────────────────────────────┼────────────────────────┼───────────────┤\n",
       "│ max_pooling2d_3 (\u001b[38;5;33mMaxPooling2D\u001b[0m)  │ (\u001b[38;5;45mNone\u001b[0m, \u001b[38;5;34m4\u001b[0m, \u001b[38;5;34m6\u001b[0m, \u001b[38;5;34m512\u001b[0m)      │             \u001b[38;5;34m0\u001b[0m │\n",
       "├─────────────────────────────────┼────────────────────────┼───────────────┤\n",
       "│ dropout_3 (\u001b[38;5;33mDropout\u001b[0m)             │ (\u001b[38;5;45mNone\u001b[0m, \u001b[38;5;34m4\u001b[0m, \u001b[38;5;34m6\u001b[0m, \u001b[38;5;34m512\u001b[0m)      │             \u001b[38;5;34m0\u001b[0m │\n",
       "├─────────────────────────────────┼────────────────────────┼───────────────┤\n",
       "│ global_average_pooling2d        │ (\u001b[38;5;45mNone\u001b[0m, \u001b[38;5;34m512\u001b[0m)            │             \u001b[38;5;34m0\u001b[0m │\n",
       "│ (\u001b[38;5;33mGlobalAveragePooling2D\u001b[0m)        │                        │               │\n",
       "├─────────────────────────────────┼────────────────────────┼───────────────┤\n",
       "│ dropout_4 (\u001b[38;5;33mDropout\u001b[0m)             │ (\u001b[38;5;45mNone\u001b[0m, \u001b[38;5;34m512\u001b[0m)            │             \u001b[38;5;34m0\u001b[0m │\n",
       "├─────────────────────────────────┼────────────────────────┼───────────────┤\n",
       "│ dense (\u001b[38;5;33mDense\u001b[0m)                   │ (\u001b[38;5;45mNone\u001b[0m, \u001b[38;5;34m1024\u001b[0m)           │       \u001b[38;5;34m525,312\u001b[0m │\n",
       "├─────────────────────────────────┼────────────────────────┼───────────────┤\n",
       "│ dense_1 (\u001b[38;5;33mDense\u001b[0m)                 │ (\u001b[38;5;45mNone\u001b[0m, \u001b[38;5;34m128\u001b[0m)            │       \u001b[38;5;34m131,200\u001b[0m │\n",
       "├─────────────────────────────────┼────────────────────────┼───────────────┤\n",
       "│ dense_2 (\u001b[38;5;33mDense\u001b[0m)                 │ (\u001b[38;5;45mNone\u001b[0m, \u001b[38;5;34m10\u001b[0m)             │         \u001b[38;5;34m1,290\u001b[0m │\n",
       "└─────────────────────────────────┴────────────────────────┴───────────────┘\n"
      ]
     },
     "metadata": {},
     "output_type": "display_data"
    },
    {
     "data": {
      "text/html": [
       "<pre style=\"white-space:pre;overflow-x:auto;line-height:normal;font-family:Menlo,'DejaVu Sans Mono',consolas,'Courier New',monospace\"><span style=\"font-weight: bold\"> Total params: </span><span style=\"color: #00af00; text-decoration-color: #00af00\">9,962,762</span> (38.00 MB)\n",
       "</pre>\n"
      ],
      "text/plain": [
       "\u001b[1m Total params: \u001b[0m\u001b[38;5;34m9,962,762\u001b[0m (38.00 MB)\n"
      ]
     },
     "metadata": {},
     "output_type": "display_data"
    },
    {
     "data": {
      "text/html": [
       "<pre style=\"white-space:pre;overflow-x:auto;line-height:normal;font-family:Menlo,'DejaVu Sans Mono',consolas,'Courier New',monospace\"><span style=\"font-weight: bold\"> Trainable params: </span><span style=\"color: #00af00; text-decoration-color: #00af00\">9,957,130</span> (37.98 MB)\n",
       "</pre>\n"
      ],
      "text/plain": [
       "\u001b[1m Trainable params: \u001b[0m\u001b[38;5;34m9,957,130\u001b[0m (37.98 MB)\n"
      ]
     },
     "metadata": {},
     "output_type": "display_data"
    },
    {
     "data": {
      "text/html": [
       "<pre style=\"white-space:pre;overflow-x:auto;line-height:normal;font-family:Menlo,'DejaVu Sans Mono',consolas,'Courier New',monospace\"><span style=\"font-weight: bold\"> Non-trainable params: </span><span style=\"color: #00af00; text-decoration-color: #00af00\">5,632</span> (22.00 KB)\n",
       "</pre>\n"
      ],
      "text/plain": [
       "\u001b[1m Non-trainable params: \u001b[0m\u001b[38;5;34m5,632\u001b[0m (22.00 KB)\n"
      ]
     },
     "metadata": {},
     "output_type": "display_data"
    },
    {
     "name": "stdout",
     "output_type": "stream",
     "text": [
      "None\n"
     ]
    }
   ],
   "source": [
    "def create_model(input_shape):\n",
    "    model = Sequential()\n",
    "    \n",
    "    model.add(Conv2D(128, kernel_size=(3,3), padding='same', activation='relu', input_shape=input_shape))\n",
    "    model.add(BatchNormalization())\n",
    "    model.add(Conv2D(128, kernel_size=(3,3), padding='same', activation='relu'))\n",
    "    model.add(BatchNormalization())\n",
    "    model.add(MaxPooling2D(pool_size=(2,2), strides=(2, 2)))\n",
    "    model.add(Dropout(0.3))\n",
    "    \n",
    "    model.add(Conv2D(256, kernel_size=(3,3), padding='same', activation='relu', input_shape=input_shape))\n",
    "    model.add(BatchNormalization())\n",
    "    model.add(Conv2D(256, kernel_size=(3,3), padding='same', activation='relu'))\n",
    "    model.add(BatchNormalization())\n",
    "    model.add(MaxPooling2D(pool_size=(2,2), strides=(2, 2)))\n",
    "    model.add(Dropout(0.34))\n",
    "\n",
    "    model.add(Conv2D(512, kernel_size=(3,3), padding='same', activation='relu'))\n",
    "    model.add(BatchNormalization())\n",
    "    model.add(Conv2D(512, kernel_size=(3,3), padding='same', activation='relu'))\n",
    "    model.add(BatchNormalization())\n",
    "    model.add(MaxPooling2D(pool_size=(2,2), strides=(2, 2)))\n",
    "    model.add(Dropout(0.36))\n",
    "\n",
    "    model.add(Conv2D(512, kernel_size=(3,3), padding='same', activation='relu'))\n",
    "    model.add(BatchNormalization())\n",
    "    model.add(Conv2D(512, kernel_size=(3,3), padding='same', activation='relu'))\n",
    "    model.add(BatchNormalization())\n",
    "    model.add(MaxPooling2D(pool_size=(2,2), strides=(2, 2)))\n",
    "    model.add(Dropout(0.38))\n",
    "\n",
    "    model.add(GlobalAveragePooling2D())\n",
    "    model.add(Dropout(0.4))\n",
    "    model.add(Dense(1024, activation='relu'))\n",
    "    model.add(Dense(128, activation='relu'))\n",
    "    model.add(Dense(10, activation='softmax'))\n",
    "\n",
    "    return model\n",
    "\n",
    "\n",
    "size1 = (64, 96, 1)\n",
    "size2 = (128, 192, 1)\n",
    "\n",
    "model = create_model(size1)\n",
    "print(\"Nombre de couches : \", len(model.layers))\n",
    "print('ok')\n",
    "print(model.summary())"
   ]
  },
  {
   "cell_type": "markdown",
   "id": "c9dd1c02",
   "metadata": {
    "papermill": {
     "duration": 0.037285,
     "end_time": "2024-06-12T16:33:51.884980",
     "exception": false,
     "start_time": "2024-06-12T16:33:51.847695",
     "status": "completed"
    },
    "tags": []
   },
   "source": [
    "### Class Weight Calculation\n",
    "\n",
    "Upon analyzing the dataset, we observed that it is imbalanced. To address this issue, we calculate and apply class weights. Class weights are used to assign higher importance to underrepresented classes during training, thereby helping to improve the model's performance on an imbalanced dataset.\n"
   ]
  },
  {
   "cell_type": "code",
   "execution_count": 8,
   "id": "6537b487",
   "metadata": {
    "execution": {
     "iopub.execute_input": "2024-06-12T16:33:51.962027Z",
     "iopub.status.busy": "2024-06-12T16:33:51.961074Z",
     "iopub.status.idle": "2024-06-12T16:33:51.983986Z",
     "shell.execute_reply": "2024-06-12T16:33:51.982797Z"
    },
    "papermill": {
     "duration": 0.064253,
     "end_time": "2024-06-12T16:33:51.986649",
     "exception": false,
     "start_time": "2024-06-12T16:33:51.922396",
     "status": "completed"
    },
    "tags": []
   },
   "outputs": [
    {
     "name": "stdout",
     "output_type": "stream",
     "text": [
      "Class weights for all 10 classes: {0: 1.217612809315866, 1: 0.6028828828828828, 2: 1.423224159931944, 3: 0.6050632911392405, 4: 2.09125, 5: 0.6403827751196173, 6: 1.195, 7: 1.253183520599251, 8: 1.489759572573464, 9: 1.2211678832116788}\n"
     ]
    }
   ],
   "source": [
    "class_weight_dict = {\n",
    "    'class_weight': 'balanced',\n",
    "    'classes': np.unique(train_dataset.classes),\n",
    "    'y': train_dataset.classes\n",
    "}\n",
    "\n",
    "class_weights = compute_class_weight(**class_weight_dict)\n",
    "class_weights_dict = {i: class_weights[i] for i in range(len(class_weights))}\n",
    "\n",
    "print('Class weights for all 10 classes:', class_weights_dict)"
   ]
  },
  {
   "cell_type": "markdown",
   "id": "7e8ddbf7",
   "metadata": {
    "papermill": {
     "duration": 0.037571,
     "end_time": "2024-06-12T16:33:52.061789",
     "exception": false,
     "start_time": "2024-06-12T16:33:52.024218",
     "status": "completed"
    },
    "tags": []
   },
   "source": [
    "### Model Training and Fine-Tuning\n",
    "\n",
    "In this section, we define the training and fine-tuning processes for our model. We use different learning rates, batch sizes, and image resolutions in two phases to improve the model's accuracy and generalization.\n",
    "\n",
    "We found that using label smoothing between 0.1 and 0.2 yielded improvements for our model. We also tested many optimizers, but none outperformed the classic good old Adam optimizer in terms of efficiency and effectiveness.\n",
    "\n",
    "We decided to prioritize the reduction of validation loss over accuracy during training, as focusing on loss produced more significant improvements in the early stages of our research. To support this approach, we use several callbacks: \n",
    "- `ReduceLROnPlateau` to monitor and reduce the learning rate when the validation loss plateaus.\n",
    "- `ModelCheckpoint` to save the best model weights based on validation loss, ensuring that we can continue training if interrupted.\n",
    "\n",
    "This part of the training process uses 80-90% of the dataset for training while keeping the rest for validation.\n"
   ]
  },
  {
   "cell_type": "code",
   "execution_count": 9,
   "id": "dd626b9c",
   "metadata": {
    "execution": {
     "iopub.execute_input": "2024-06-12T16:33:52.139359Z",
     "iopub.status.busy": "2024-06-12T16:33:52.138948Z",
     "iopub.status.idle": "2024-06-12T18:56:17.292701Z",
     "shell.execute_reply": "2024-06-12T18:56:17.291670Z"
    },
    "papermill": {
     "duration": 8545.195305,
     "end_time": "2024-06-12T18:56:17.294887",
     "exception": false,
     "start_time": "2024-06-12T16:33:52.099582",
     "status": "completed"
    },
    "tags": []
   },
   "outputs": [
    {
     "name": "stdout",
     "output_type": "stream",
     "text": [
      "Epoch 1/50\n"
     ]
    },
    {
     "name": "stderr",
     "output_type": "stream",
     "text": [
      "/opt/conda/lib/python3.10/site-packages/keras/src/trainers/data_adapters/py_dataset_adapter.py:120: UserWarning: Your `PyDataset` class should call `super().__init__(**kwargs)` in its constructor. `**kwargs` can include `workers`, `use_multiprocessing`, `max_queue_size`. Do not pass these arguments to `fit()`, as they will be ignored.\n",
      "  self._warn_if_super_not_called()\n",
      "2024-06-12 16:34:43.071079: E external/local_xla/xla/service/slow_operation_alarm.cc:65] Trying algorithm eng12{k11=2} for conv (f32[512,256,32,48]{3,2,1,0}, u8[0]{0}) custom-call(f32[512,256,32,48]{3,2,1,0}, f32[256,256,3,3]{3,2,1,0}, f32[256]{0}), window={size=3x3 pad=1_1x1_1}, dim_labels=bf01_oi01->bf01, custom_call_target=\"__cudnn$convBiasActivationForward\", backend_config={\"conv_result_scale\":1,\"activation_mode\":\"kRelu\",\"side_input_scale\":0,\"leakyrelu_alpha\":0} is taking a while...\n",
      "2024-06-12 16:34:43.090614: E external/local_xla/xla/service/slow_operation_alarm.cc:133] The operation took 1.019649459s\n",
      "Trying algorithm eng12{k11=2} for conv (f32[512,256,32,48]{3,2,1,0}, u8[0]{0}) custom-call(f32[512,256,32,48]{3,2,1,0}, f32[256,256,3,3]{3,2,1,0}, f32[256]{0}), window={size=3x3 pad=1_1x1_1}, dim_labels=bf01_oi01->bf01, custom_call_target=\"__cudnn$convBiasActivationForward\", backend_config={\"conv_result_scale\":1,\"activation_mode\":\"kRelu\",\"side_input_scale\":0,\"leakyrelu_alpha\":0} is taking a while...\n",
      "2024-06-12 16:34:50.057191: E external/local_xla/xla/service/slow_operation_alarm.cc:65] Trying algorithm eng12{k11=2} for conv (f32[512,256,32,48]{3,2,1,0}, u8[0]{0}) custom-call(f32[512,256,32,48]{3,2,1,0}, f32[256,256,3,3]{3,2,1,0}, f32[256]{0}), window={size=3x3 pad=1_1x1_1}, dim_labels=bf01_oi01->bf01, custom_call_target=\"__cudnn$convBiasActivationForward\", backend_config={\"conv_result_scale\":1,\"activation_mode\":\"kRelu\",\"side_input_scale\":0,\"leakyrelu_alpha\":0} is taking a while...\n",
      "2024-06-12 16:34:50.075300: E external/local_xla/xla/service/slow_operation_alarm.cc:133] The operation took 1.018218842s\n",
      "Trying algorithm eng12{k11=2} for conv (f32[512,256,32,48]{3,2,1,0}, u8[0]{0}) custom-call(f32[512,256,32,48]{3,2,1,0}, f32[256,256,3,3]{3,2,1,0}, f32[256]{0}), window={size=3x3 pad=1_1x1_1}, dim_labels=bf01_oi01->bf01, custom_call_target=\"__cudnn$convBiasActivationForward\", backend_config={\"conv_result_scale\":1,\"activation_mode\":\"kRelu\",\"side_input_scale\":0,\"leakyrelu_alpha\":0} is taking a while...\n",
      "2024-06-12 16:35:28.859235: E external/local_xla/xla/service/slow_operation_alarm.cc:65] Trying algorithm eng4{k11=2} for conv (f32[512,256,32,48]{3,2,1,0}, u8[0]{0}) custom-call(f32[512,256,32,48]{3,2,1,0}, f32[256,256,3,3]{3,2,1,0}), window={size=3x3 pad=1_1x1_1}, dim_labels=bf01_oi01->bf01, custom_call_target=\"__cudnn$convBackwardInput\", backend_config={\"conv_result_scale\":1,\"activation_mode\":\"kNone\",\"side_input_scale\":0,\"leakyrelu_alpha\":0} is taking a while...\n",
      "2024-06-12 16:35:28.874741: E external/local_xla/xla/service/slow_operation_alarm.cc:133] The operation took 1.015623689s\n",
      "Trying algorithm eng4{k11=2} for conv (f32[512,256,32,48]{3,2,1,0}, u8[0]{0}) custom-call(f32[512,256,32,48]{3,2,1,0}, f32[256,256,3,3]{3,2,1,0}), window={size=3x3 pad=1_1x1_1}, dim_labels=bf01_oi01->bf01, custom_call_target=\"__cudnn$convBackwardInput\", backend_config={\"conv_result_scale\":1,\"activation_mode\":\"kNone\",\"side_input_scale\":0,\"leakyrelu_alpha\":0} is taking a while...\n",
      "2024-06-12 16:35:32.827922: E external/local_xla/xla/service/slow_operation_alarm.cc:65] Trying algorithm eng4{k11=2} for conv (f32[512,256,32,48]{3,2,1,0}, u8[0]{0}) custom-call(f32[512,256,32,48]{3,2,1,0}, f32[256,256,3,3]{3,2,1,0}), window={size=3x3 pad=1_1x1_1}, dim_labels=bf01_oi01->bf01, custom_call_target=\"__cudnn$convBackwardInput\", backend_config={\"conv_result_scale\":1,\"activation_mode\":\"kNone\",\"side_input_scale\":0,\"leakyrelu_alpha\":0} is taking a while...\n",
      "2024-06-12 16:35:32.848276: E external/local_xla/xla/service/slow_operation_alarm.cc:133] The operation took 1.020473734s\n",
      "Trying algorithm eng4{k11=2} for conv (f32[512,256,32,48]{3,2,1,0}, u8[0]{0}) custom-call(f32[512,256,32,48]{3,2,1,0}, f32[256,256,3,3]{3,2,1,0}), window={size=3x3 pad=1_1x1_1}, dim_labels=bf01_oi01->bf01, custom_call_target=\"__cudnn$convBackwardInput\", backend_config={\"conv_result_scale\":1,\"activation_mode\":\"kNone\",\"side_input_scale\":0,\"leakyrelu_alpha\":0} is taking a while...\n",
      "WARNING: All log messages before absl::InitializeLog() is called are written to STDERR\n",
      "I0000 00:00:1718210208.742561      85 device_compiler.h:186] Compiled cluster using XLA!  This line is logged at most once for the lifetime of the process.\n",
      "W0000 00:00:1718210208.790733      85 graph_launch.cc:671] Fallback to op-by-op mode because memset node breaks graph update\n",
      "W0000 00:00:1718210329.085152      86 graph_launch.cc:671] Fallback to op-by-op mode because memset node breaks graph update\n"
     ]
    },
    {
     "name": "stdout",
     "output_type": "stream",
     "text": [
      "66/66 - 318s - 5s/step - accuracy: 0.1767 - loss: 2.3196 - val_accuracy: 0.1429 - val_loss: 2.5941 - learning_rate: 0.0020\n",
      "Epoch 2/50\n",
      "66/66 - 61s - 919ms/step - accuracy: 0.2897 - loss: 2.1239 - val_accuracy: 0.0761 - val_loss: 2.3707 - learning_rate: 0.0020\n",
      "Epoch 3/50\n",
      "66/66 - 60s - 907ms/step - accuracy: 0.3779 - loss: 2.0083 - val_accuracy: 0.0819 - val_loss: 2.8546 - learning_rate: 0.0020\n",
      "Epoch 4/50\n",
      "66/66 - 60s - 903ms/step - accuracy: 0.4663 - loss: 1.8839 - val_accuracy: 0.0806 - val_loss: 3.1725 - learning_rate: 0.0020\n",
      "Epoch 5/50\n",
      "66/66 - 60s - 903ms/step - accuracy: 0.5420 - loss: 1.7626 - val_accuracy: 0.1445 - val_loss: 2.6187 - learning_rate: 0.0020\n",
      "Epoch 6/50\n",
      "66/66 - 60s - 910ms/step - accuracy: 0.6020 - loss: 1.6511 - val_accuracy: 0.0717 - val_loss: 4.0312 - learning_rate: 0.0020\n",
      "Epoch 7/50\n",
      "66/66 - 60s - 915ms/step - accuracy: 0.6453 - loss: 1.5691 - val_accuracy: 0.1543 - val_loss: 2.7418 - learning_rate: 0.0020\n",
      "Epoch 8/50\n",
      "66/66 - 60s - 916ms/step - accuracy: 0.6898 - loss: 1.4787 - val_accuracy: 0.3623 - val_loss: 2.2661 - learning_rate: 0.0010\n",
      "Epoch 9/50\n",
      "66/66 - 60s - 916ms/step - accuracy: 0.7175 - loss: 1.4255 - val_accuracy: 0.5919 - val_loss: 1.7956 - learning_rate: 0.0010\n",
      "Epoch 10/50\n",
      "66/66 - 61s - 923ms/step - accuracy: 0.7387 - loss: 1.3885 - val_accuracy: 0.6069 - val_loss: 1.7315 - learning_rate: 0.0010\n",
      "Epoch 11/50\n",
      "66/66 - 60s - 914ms/step - accuracy: 0.7555 - loss: 1.3545 - val_accuracy: 0.7223 - val_loss: 1.5576 - learning_rate: 0.0010\n",
      "Epoch 12/50\n",
      "66/66 - 60s - 910ms/step - accuracy: 0.7696 - loss: 1.3285 - val_accuracy: 0.7633 - val_loss: 1.4476 - learning_rate: 0.0010\n",
      "Epoch 13/50\n",
      "66/66 - 60s - 903ms/step - accuracy: 0.7823 - loss: 1.3023 - val_accuracy: 0.7313 - val_loss: 1.5780 - learning_rate: 0.0010\n",
      "Epoch 14/50\n",
      "66/66 - 60s - 914ms/step - accuracy: 0.7986 - loss: 1.2735 - val_accuracy: 0.7450 - val_loss: 1.4363 - learning_rate: 0.0010\n",
      "Epoch 15/50\n",
      "66/66 - 60s - 902ms/step - accuracy: 0.8095 - loss: 1.2520 - val_accuracy: 0.7614 - val_loss: 1.4700 - learning_rate: 0.0010\n",
      "Epoch 16/50\n",
      "66/66 - 60s - 913ms/step - accuracy: 0.8187 - loss: 1.2341 - val_accuracy: 0.7797 - val_loss: 1.5768 - learning_rate: 0.0010\n",
      "Epoch 17/50\n",
      "66/66 - 60s - 910ms/step - accuracy: 0.8286 - loss: 1.2151 - val_accuracy: 0.7765 - val_loss: 1.8742 - learning_rate: 0.0010\n",
      "Epoch 18/50\n",
      "66/66 - 60s - 906ms/step - accuracy: 0.8345 - loss: 1.2005 - val_accuracy: 0.6658 - val_loss: 1.6813 - learning_rate: 0.0010\n",
      "Epoch 19/50\n",
      "66/66 - 60s - 907ms/step - accuracy: 0.8392 - loss: 1.1902 - val_accuracy: 0.7838 - val_loss: 1.5684 - learning_rate: 0.0010\n",
      "Epoch 20/50\n",
      "66/66 - 60s - 915ms/step - accuracy: 0.8575 - loss: 1.1522 - val_accuracy: 0.8304 - val_loss: 1.2721 - learning_rate: 5.0000e-04\n",
      "Epoch 21/50\n",
      "66/66 - 60s - 905ms/step - accuracy: 0.8679 - loss: 1.1339 - val_accuracy: 0.8277 - val_loss: 1.2767 - learning_rate: 5.0000e-04\n",
      "Epoch 22/50\n",
      "66/66 - 60s - 906ms/step - accuracy: 0.8723 - loss: 1.1261 - val_accuracy: 0.8445 - val_loss: 1.3297 - learning_rate: 5.0000e-04\n",
      "Epoch 23/50\n",
      "66/66 - 60s - 910ms/step - accuracy: 0.8787 - loss: 1.1161 - val_accuracy: 0.8491 - val_loss: 1.2602 - learning_rate: 5.0000e-04\n",
      "Epoch 24/50\n",
      "66/66 - 59s - 899ms/step - accuracy: 0.8835 - loss: 1.1073 - val_accuracy: 0.8445 - val_loss: 1.2977 - learning_rate: 5.0000e-04\n",
      "Epoch 25/50\n",
      "66/66 - 60s - 912ms/step - accuracy: 0.8819 - loss: 1.1043 - val_accuracy: 0.8350 - val_loss: 1.3268 - learning_rate: 5.0000e-04\n",
      "Epoch 26/50\n",
      "66/66 - 60s - 904ms/step - accuracy: 0.8902 - loss: 1.0923 - val_accuracy: 0.8196 - val_loss: 1.2810 - learning_rate: 5.0000e-04\n",
      "Epoch 27/50\n",
      "66/66 - 59s - 901ms/step - accuracy: 0.8927 - loss: 1.0866 - val_accuracy: 0.8228 - val_loss: 1.3595 - learning_rate: 5.0000e-04\n",
      "Epoch 28/50\n",
      "66/66 - 60s - 906ms/step - accuracy: 0.8946 - loss: 1.0826 - val_accuracy: 0.8535 - val_loss: 1.3232 - learning_rate: 5.0000e-04\n",
      "Epoch 29/50\n",
      "66/66 - 59s - 901ms/step - accuracy: 0.9031 - loss: 1.0628 - val_accuracy: 0.8418 - val_loss: 1.4045 - learning_rate: 2.5000e-04\n",
      "Epoch 30/50\n",
      "66/66 - 59s - 901ms/step - accuracy: 0.9105 - loss: 1.0529 - val_accuracy: 0.8399 - val_loss: 1.3724 - learning_rate: 2.5000e-04\n",
      "Epoch 31/50\n",
      "66/66 - 60s - 903ms/step - accuracy: 0.9126 - loss: 1.0455 - val_accuracy: 0.8513 - val_loss: 1.3477 - learning_rate: 2.5000e-04\n",
      "Epoch 32/50\n",
      "66/66 - 60s - 902ms/step - accuracy: 0.9137 - loss: 1.0457 - val_accuracy: 0.8374 - val_loss: 1.3643 - learning_rate: 2.5000e-04\n",
      "Epoch 33/50\n",
      "66/66 - 59s - 901ms/step - accuracy: 0.9157 - loss: 1.0407 - val_accuracy: 0.8457 - val_loss: 1.2993 - learning_rate: 2.5000e-04\n",
      "Epoch 34/50\n",
      "66/66 - 60s - 909ms/step - accuracy: 0.9215 - loss: 1.0321 - val_accuracy: 0.8562 - val_loss: 1.2786 - learning_rate: 1.2500e-04\n",
      "Epoch 35/50\n",
      "66/66 - 60s - 904ms/step - accuracy: 0.9221 - loss: 1.0264 - val_accuracy: 0.8612 - val_loss: 1.3307 - learning_rate: 1.2500e-04\n",
      "Epoch 36/50\n",
      "66/66 - 60s - 906ms/step - accuracy: 0.9246 - loss: 1.0238 - val_accuracy: 0.8662 - val_loss: 1.3109 - learning_rate: 1.2500e-04\n",
      "Epoch 37/50\n",
      "66/66 - 60s - 913ms/step - accuracy: 0.9260 - loss: 1.0201 - val_accuracy: 0.8688 - val_loss: 1.3614 - learning_rate: 1.2500e-04\n",
      "Epoch 38/50\n",
      "66/66 - 60s - 904ms/step - accuracy: 0.9244 - loss: 1.0222 - val_accuracy: 0.8662 - val_loss: 1.3351 - learning_rate: 1.2500e-04\n",
      "Epoch 39/50\n",
      "66/66 - 60s - 905ms/step - accuracy: 0.9304 - loss: 1.0135 - val_accuracy: 0.8652 - val_loss: 1.3927 - learning_rate: 6.2500e-05\n",
      "Epoch 39: early stopping\n",
      "Restoring model weights from the end of the best epoch: 23.\n"
     ]
    },
    {
     "name": "stderr",
     "output_type": "stream",
     "text": [
      "/opt/conda/lib/python3.10/site-packages/keras/src/layers/convolutional/base_conv.py:99: UserWarning: Do not pass an `input_shape`/`input_dim` argument to a layer. When using Sequential models, prefer using an `Input(shape)` object as the first layer in the model instead.\n",
      "  super().__init__(\n",
      "/opt/conda/lib/python3.10/site-packages/keras/src/saving/saving_lib.py:418: UserWarning: Skipping variable loading for optimizer 'loss_scale_optimizer_1', because it has 4 variables whereas the saved optimizer has 82 variables. \n",
      "  trackable.load_own_variables(weights_store.get(inner_path))\n",
      "/opt/conda/lib/python3.10/site-packages/keras/src/saving/saving_lib.py:418: UserWarning: Skipping variable loading for optimizer 'adam', because it has 2 variables whereas the saved optimizer has 78 variables. \n",
      "  trackable.load_own_variables(weights_store.get(inner_path))\n"
     ]
    },
    {
     "name": "stdout",
     "output_type": "stream",
     "text": [
      "Found 33460 images belonging to 10 classes.\n",
      "Found 8371 images belonging to 10 classes.\n",
      "Epoch 1/50\n"
     ]
    },
    {
     "name": "stderr",
     "output_type": "stream",
     "text": [
      "2024-06-12 17:17:27.289150: E external/local_xla/xla/service/gpu/buffer_comparator.cc:1137] Difference at 0: 2.02853, expected 1.33474\n",
      "2024-06-12 17:17:27.289221: E external/local_xla/xla/service/gpu/buffer_comparator.cc:1137] Difference at 1: 2.24699, expected 1.5532\n",
      "2024-06-12 17:17:27.289232: E external/local_xla/xla/service/gpu/buffer_comparator.cc:1137] Difference at 2: 2.46782, expected 1.77404\n",
      "2024-06-12 17:17:27.289242: E external/local_xla/xla/service/gpu/buffer_comparator.cc:1137] Difference at 3: 2.63004, expected 1.93625\n",
      "2024-06-12 17:17:27.289251: E external/local_xla/xla/service/gpu/buffer_comparator.cc:1137] Difference at 4: 1.98197, expected 1.28819\n",
      "2024-06-12 17:17:27.289261: E external/local_xla/xla/service/gpu/buffer_comparator.cc:1137] Difference at 5: 2.66898, expected 1.9752\n",
      "2024-06-12 17:17:27.289270: E external/local_xla/xla/service/gpu/buffer_comparator.cc:1137] Difference at 6: 2.8508, expected 2.15701\n",
      "2024-06-12 17:17:27.289279: E external/local_xla/xla/service/gpu/buffer_comparator.cc:1137] Difference at 7: 2.21546, expected 1.52167\n",
      "2024-06-12 17:17:27.289288: E external/local_xla/xla/service/gpu/buffer_comparator.cc:1137] Difference at 8: 1.91541, expected 1.22163\n",
      "2024-06-12 17:17:27.289298: E external/local_xla/xla/service/gpu/buffer_comparator.cc:1137] Difference at 9: 2.36594, expected 1.67215\n",
      "2024-06-12 17:17:27.340370: E external/local_xla/xla/service/gpu/conv_algorithm_picker.cc:705] Results mismatch between different convolution algorithms. This is likely a bug/unexpected loss of precision in cudnn.\n",
      "(f32[32,128,128,192]{3,2,1,0}, u8[0]{0}) custom-call(f32[32,1,128,192]{3,2,1,0}, f32[128,1,3,3]{3,2,1,0}, f32[128]{0}), window={size=3x3 pad=1_1x1_1}, dim_labels=bf01_oi01->bf01, custom_call_target=\"__cudnn$convBiasActivationForward\", backend_config={\"conv_result_scale\":1,\"activation_mode\":\"kRelu\",\"side_input_scale\":0,\"leakyrelu_alpha\":0} for eng20{k2=1,k4=1,k5=1,k6=0,k7=0} vs eng15{k5=1,k6=0,k7=1,k10=1}\n",
      "2024-06-12 17:17:27.340433: E external/local_xla/xla/service/gpu/conv_algorithm_picker.cc:270] Device: Tesla P100-PCIE-16GB\n",
      "2024-06-12 17:17:27.340443: E external/local_xla/xla/service/gpu/conv_algorithm_picker.cc:271] Platform: Compute Capability 6.0\n",
      "2024-06-12 17:17:27.340451: E external/local_xla/xla/service/gpu/conv_algorithm_picker.cc:272] Driver: 12020 (535.129.3)\n",
      "2024-06-12 17:17:27.340459: E external/local_xla/xla/service/gpu/conv_algorithm_picker.cc:273] Runtime: <undefined>\n",
      "2024-06-12 17:17:27.340477: E external/local_xla/xla/service/gpu/conv_algorithm_picker.cc:280] cudnn version: 8.9.0\n",
      "2024-06-12 17:17:28.367588: E external/local_xla/xla/service/gpu/buffer_comparator.cc:1137] Difference at 0: 2.02853, expected 1.33474\n",
      "2024-06-12 17:17:28.367655: E external/local_xla/xla/service/gpu/buffer_comparator.cc:1137] Difference at 1: 2.24699, expected 1.5532\n",
      "2024-06-12 17:17:28.367666: E external/local_xla/xla/service/gpu/buffer_comparator.cc:1137] Difference at 2: 2.46782, expected 1.77404\n",
      "2024-06-12 17:17:28.367675: E external/local_xla/xla/service/gpu/buffer_comparator.cc:1137] Difference at 3: 2.63004, expected 1.93625\n",
      "2024-06-12 17:17:28.367684: E external/local_xla/xla/service/gpu/buffer_comparator.cc:1137] Difference at 4: 1.98197, expected 1.28819\n",
      "2024-06-12 17:17:28.367693: E external/local_xla/xla/service/gpu/buffer_comparator.cc:1137] Difference at 5: 2.66898, expected 1.9752\n",
      "2024-06-12 17:17:28.367702: E external/local_xla/xla/service/gpu/buffer_comparator.cc:1137] Difference at 6: 2.8508, expected 2.15701\n",
      "2024-06-12 17:17:28.367711: E external/local_xla/xla/service/gpu/buffer_comparator.cc:1137] Difference at 7: 2.21546, expected 1.52167\n",
      "2024-06-12 17:17:28.367720: E external/local_xla/xla/service/gpu/buffer_comparator.cc:1137] Difference at 8: 1.91541, expected 1.22163\n",
      "2024-06-12 17:17:28.367729: E external/local_xla/xla/service/gpu/buffer_comparator.cc:1137] Difference at 9: 2.36594, expected 1.67215\n",
      "2024-06-12 17:17:28.417696: E external/local_xla/xla/service/gpu/conv_algorithm_picker.cc:705] Results mismatch between different convolution algorithms. This is likely a bug/unexpected loss of precision in cudnn.\n",
      "(f32[32,128,128,192]{3,2,1,0}, u8[0]{0}) custom-call(f32[32,1,128,192]{3,2,1,0}, f32[128,1,3,3]{3,2,1,0}, f32[128]{0}), window={size=3x3 pad=1_1x1_1}, dim_labels=bf01_oi01->bf01, custom_call_target=\"__cudnn$convBiasActivationForward\", backend_config={\"conv_result_scale\":1,\"activation_mode\":\"kRelu\",\"side_input_scale\":0,\"leakyrelu_alpha\":0} for eng20{k2=1,k4=1,k5=1,k6=0,k7=0} vs eng15{k5=1,k6=0,k7=1,k10=1}\n",
      "2024-06-12 17:17:28.417755: E external/local_xla/xla/service/gpu/conv_algorithm_picker.cc:270] Device: Tesla P100-PCIE-16GB\n",
      "2024-06-12 17:17:28.417765: E external/local_xla/xla/service/gpu/conv_algorithm_picker.cc:271] Platform: Compute Capability 6.0\n",
      "2024-06-12 17:17:28.417772: E external/local_xla/xla/service/gpu/conv_algorithm_picker.cc:272] Driver: 12020 (535.129.3)\n",
      "2024-06-12 17:17:28.417780: E external/local_xla/xla/service/gpu/conv_algorithm_picker.cc:273] Runtime: <undefined>\n",
      "2024-06-12 17:17:28.417797: E external/local_xla/xla/service/gpu/conv_algorithm_picker.cc:280] cudnn version: 8.9.0\n",
      "2024-06-12 17:21:24.605616: E external/local_xla/xla/service/gpu/buffer_comparator.cc:1137] Difference at 0: 2.16852, expected 1.64484\n",
      "2024-06-12 17:21:24.605687: E external/local_xla/xla/service/gpu/buffer_comparator.cc:1137] Difference at 1: 2.7337, expected 2.21001\n",
      "2024-06-12 17:21:24.605703: E external/local_xla/xla/service/gpu/buffer_comparator.cc:1137] Difference at 2: 2.95709, expected 2.43341\n",
      "2024-06-12 17:21:24.605722: E external/local_xla/xla/service/gpu/buffer_comparator.cc:1137] Difference at 3: 2.29781, expected 1.77413\n",
      "2024-06-12 17:21:24.605737: E external/local_xla/xla/service/gpu/buffer_comparator.cc:1137] Difference at 4: 2.75359, expected 2.22991\n",
      "2024-06-12 17:21:24.605748: E external/local_xla/xla/service/gpu/buffer_comparator.cc:1137] Difference at 5: 3.09661, expected 2.57292\n",
      "2024-06-12 17:21:24.605760: E external/local_xla/xla/service/gpu/buffer_comparator.cc:1137] Difference at 6: 2.89369, expected 2.37001\n",
      "2024-06-12 17:21:24.605771: E external/local_xla/xla/service/gpu/buffer_comparator.cc:1137] Difference at 7: 2.26706, expected 1.74338\n",
      "2024-06-12 17:21:24.605782: E external/local_xla/xla/service/gpu/buffer_comparator.cc:1137] Difference at 8: 2.6295, expected 2.10582\n",
      "2024-06-12 17:21:24.605794: E external/local_xla/xla/service/gpu/buffer_comparator.cc:1137] Difference at 9: 2.66567, expected 2.14199\n",
      "2024-06-12 17:21:24.636380: E external/local_xla/xla/service/gpu/conv_algorithm_picker.cc:705] Results mismatch between different convolution algorithms. This is likely a bug/unexpected loss of precision in cudnn.\n",
      "(f32[20,128,128,192]{3,2,1,0}, u8[0]{0}) custom-call(f32[20,1,128,192]{3,2,1,0}, f32[128,1,3,3]{3,2,1,0}, f32[128]{0}), window={size=3x3 pad=1_1x1_1}, dim_labels=bf01_oi01->bf01, custom_call_target=\"__cudnn$convBiasActivationForward\", backend_config={\"conv_result_scale\":1,\"activation_mode\":\"kRelu\",\"side_input_scale\":0,\"leakyrelu_alpha\":0} for eng20{k2=1,k4=1,k5=1,k6=0,k7=0} vs eng15{k5=1,k6=0,k7=1,k10=1}\n",
      "2024-06-12 17:21:24.636444: E external/local_xla/xla/service/gpu/conv_algorithm_picker.cc:270] Device: Tesla P100-PCIE-16GB\n",
      "2024-06-12 17:21:24.636460: E external/local_xla/xla/service/gpu/conv_algorithm_picker.cc:271] Platform: Compute Capability 6.0\n",
      "2024-06-12 17:21:24.636473: E external/local_xla/xla/service/gpu/conv_algorithm_picker.cc:272] Driver: 12020 (535.129.3)\n",
      "2024-06-12 17:21:24.636491: E external/local_xla/xla/service/gpu/conv_algorithm_picker.cc:273] Runtime: <undefined>\n",
      "2024-06-12 17:21:24.636514: E external/local_xla/xla/service/gpu/conv_algorithm_picker.cc:280] cudnn version: 8.9.0\n",
      "2024-06-12 17:21:25.291865: E external/local_xla/xla/service/gpu/buffer_comparator.cc:1137] Difference at 0: 2.16852, expected 1.64484\n",
      "2024-06-12 17:21:25.291929: E external/local_xla/xla/service/gpu/buffer_comparator.cc:1137] Difference at 1: 2.7337, expected 2.21001\n",
      "2024-06-12 17:21:25.291944: E external/local_xla/xla/service/gpu/buffer_comparator.cc:1137] Difference at 2: 2.95709, expected 2.43341\n",
      "2024-06-12 17:21:25.291956: E external/local_xla/xla/service/gpu/buffer_comparator.cc:1137] Difference at 3: 2.29781, expected 1.77413\n",
      "2024-06-12 17:21:25.291975: E external/local_xla/xla/service/gpu/buffer_comparator.cc:1137] Difference at 4: 2.75359, expected 2.22991\n",
      "2024-06-12 17:21:25.291988: E external/local_xla/xla/service/gpu/buffer_comparator.cc:1137] Difference at 5: 3.09661, expected 2.57292\n",
      "2024-06-12 17:21:25.291998: E external/local_xla/xla/service/gpu/buffer_comparator.cc:1137] Difference at 6: 2.89369, expected 2.37001\n",
      "2024-06-12 17:21:25.292009: E external/local_xla/xla/service/gpu/buffer_comparator.cc:1137] Difference at 7: 2.26706, expected 1.74338\n",
      "2024-06-12 17:21:25.292027: E external/local_xla/xla/service/gpu/buffer_comparator.cc:1137] Difference at 8: 2.6295, expected 2.10582\n",
      "2024-06-12 17:21:25.292037: E external/local_xla/xla/service/gpu/buffer_comparator.cc:1137] Difference at 9: 2.66567, expected 2.14199\n",
      "2024-06-12 17:21:25.323191: E external/local_xla/xla/service/gpu/conv_algorithm_picker.cc:705] Results mismatch between different convolution algorithms. This is likely a bug/unexpected loss of precision in cudnn.\n",
      "(f32[20,128,128,192]{3,2,1,0}, u8[0]{0}) custom-call(f32[20,1,128,192]{3,2,1,0}, f32[128,1,3,3]{3,2,1,0}, f32[128]{0}), window={size=3x3 pad=1_1x1_1}, dim_labels=bf01_oi01->bf01, custom_call_target=\"__cudnn$convBiasActivationForward\", backend_config={\"conv_result_scale\":1,\"activation_mode\":\"kRelu\",\"side_input_scale\":0,\"leakyrelu_alpha\":0} for eng20{k2=1,k4=1,k5=1,k6=0,k7=0} vs eng15{k5=1,k6=0,k7=1,k10=1}\n",
      "2024-06-12 17:21:25.323254: E external/local_xla/xla/service/gpu/conv_algorithm_picker.cc:270] Device: Tesla P100-PCIE-16GB\n",
      "2024-06-12 17:21:25.323267: E external/local_xla/xla/service/gpu/conv_algorithm_picker.cc:271] Platform: Compute Capability 6.0\n",
      "2024-06-12 17:21:25.323282: E external/local_xla/xla/service/gpu/conv_algorithm_picker.cc:272] Driver: 12020 (535.129.3)\n",
      "2024-06-12 17:21:25.323295: E external/local_xla/xla/service/gpu/conv_algorithm_picker.cc:273] Runtime: <undefined>\n",
      "2024-06-12 17:21:25.323315: E external/local_xla/xla/service/gpu/conv_algorithm_picker.cc:280] cudnn version: 8.9.0\n",
      "2024-06-12 17:22:45.424338: E external/local_xla/xla/service/gpu/buffer_comparator.cc:1137] Difference at 137: 0.772209, expected 0.590369\n",
      "2024-06-12 17:22:45.424395: E external/local_xla/xla/service/gpu/buffer_comparator.cc:1137] Difference at 191: 0.749788, expected 0.567948\n",
      "2024-06-12 17:22:45.424415: E external/local_xla/xla/service/gpu/buffer_comparator.cc:1137] Difference at 2707: 0.766372, expected 0.584532\n",
      "2024-06-12 17:22:45.424429: E external/local_xla/xla/service/gpu/buffer_comparator.cc:1137] Difference at 4040: 0.760417, expected 0.578577\n",
      "2024-06-12 17:22:45.424456: E external/local_xla/xla/service/gpu/buffer_comparator.cc:1137] Difference at 8425: 0.61474, expected 0.4329\n",
      "2024-06-12 17:22:45.424467: E external/local_xla/xla/service/gpu/buffer_comparator.cc:1137] Difference at 9166: 0.725287, expected 0.543447\n",
      "2024-06-12 17:22:45.424477: E external/local_xla/xla/service/gpu/buffer_comparator.cc:1137] Difference at 9737: 0.761402, expected 0.579561\n",
      "2024-06-12 17:22:45.424485: E external/local_xla/xla/service/gpu/buffer_comparator.cc:1137] Difference at 9792: 0.722911, expected 0.541071\n",
      "2024-06-12 17:22:45.424505: E external/local_xla/xla/service/gpu/buffer_comparator.cc:1137] Difference at 12776: 0.766372, expected 0.584532\n",
      "2024-06-12 17:22:45.424518: E external/local_xla/xla/service/gpu/buffer_comparator.cc:1137] Difference at 14109: 0.760417, expected 0.578577\n",
      "2024-06-12 17:22:45.454339: E external/local_xla/xla/service/gpu/conv_algorithm_picker.cc:705] Results mismatch between different convolution algorithms. This is likely a bug/unexpected loss of precision in cudnn.\n",
      "(f32[19,128,128,192]{3,2,1,0}, u8[0]{0}) custom-call(f32[19,1,128,192]{3,2,1,0}, f32[128,1,3,3]{3,2,1,0}, f32[128]{0}), window={size=3x3 pad=1_1x1_1}, dim_labels=bf01_oi01->bf01, custom_call_target=\"__cudnn$convBiasActivationForward\", backend_config={\"conv_result_scale\":1,\"activation_mode\":\"kRelu\",\"side_input_scale\":0,\"leakyrelu_alpha\":0} for eng20{k2=1,k4=1,k5=1,k6=0,k7=0} vs eng15{k5=1,k6=0,k7=1,k10=1}\n",
      "2024-06-12 17:22:45.454398: E external/local_xla/xla/service/gpu/conv_algorithm_picker.cc:270] Device: Tesla P100-PCIE-16GB\n",
      "2024-06-12 17:22:45.454407: E external/local_xla/xla/service/gpu/conv_algorithm_picker.cc:271] Platform: Compute Capability 6.0\n",
      "2024-06-12 17:22:45.454415: E external/local_xla/xla/service/gpu/conv_algorithm_picker.cc:272] Driver: 12020 (535.129.3)\n",
      "2024-06-12 17:22:45.454422: E external/local_xla/xla/service/gpu/conv_algorithm_picker.cc:273] Runtime: <undefined>\n",
      "2024-06-12 17:22:45.454439: E external/local_xla/xla/service/gpu/conv_algorithm_picker.cc:280] cudnn version: 8.9.0\n",
      "2024-06-12 17:22:46.017876: E external/local_xla/xla/service/gpu/buffer_comparator.cc:1137] Difference at 137: 0.772209, expected 0.590369\n",
      "2024-06-12 17:22:46.017955: E external/local_xla/xla/service/gpu/buffer_comparator.cc:1137] Difference at 191: 0.749788, expected 0.567948\n",
      "2024-06-12 17:22:46.017996: E external/local_xla/xla/service/gpu/buffer_comparator.cc:1137] Difference at 2707: 0.766372, expected 0.584532\n",
      "2024-06-12 17:22:46.018027: E external/local_xla/xla/service/gpu/buffer_comparator.cc:1137] Difference at 4040: 0.760417, expected 0.578577\n",
      "2024-06-12 17:22:46.018096: E external/local_xla/xla/service/gpu/buffer_comparator.cc:1137] Difference at 8425: 0.61474, expected 0.4329\n",
      "2024-06-12 17:22:46.018132: E external/local_xla/xla/service/gpu/buffer_comparator.cc:1137] Difference at 9166: 0.725287, expected 0.543447\n",
      "2024-06-12 17:22:46.018150: E external/local_xla/xla/service/gpu/buffer_comparator.cc:1137] Difference at 9737: 0.761402, expected 0.579561\n",
      "2024-06-12 17:22:46.018163: E external/local_xla/xla/service/gpu/buffer_comparator.cc:1137] Difference at 9792: 0.722911, expected 0.541071\n",
      "2024-06-12 17:22:46.018199: E external/local_xla/xla/service/gpu/buffer_comparator.cc:1137] Difference at 12776: 0.766372, expected 0.584532\n",
      "2024-06-12 17:22:46.018222: E external/local_xla/xla/service/gpu/buffer_comparator.cc:1137] Difference at 14109: 0.760417, expected 0.578577\n",
      "2024-06-12 17:22:46.049874: E external/local_xla/xla/service/gpu/conv_algorithm_picker.cc:705] Results mismatch between different convolution algorithms. This is likely a bug/unexpected loss of precision in cudnn.\n",
      "(f32[19,128,128,192]{3,2,1,0}, u8[0]{0}) custom-call(f32[19,1,128,192]{3,2,1,0}, f32[128,1,3,3]{3,2,1,0}, f32[128]{0}), window={size=3x3 pad=1_1x1_1}, dim_labels=bf01_oi01->bf01, custom_call_target=\"__cudnn$convBiasActivationForward\", backend_config={\"conv_result_scale\":1,\"activation_mode\":\"kRelu\",\"side_input_scale\":0,\"leakyrelu_alpha\":0} for eng20{k2=1,k4=1,k5=1,k6=0,k7=0} vs eng15{k5=1,k6=0,k7=1,k10=1}\n",
      "2024-06-12 17:22:46.049931: E external/local_xla/xla/service/gpu/conv_algorithm_picker.cc:270] Device: Tesla P100-PCIE-16GB\n",
      "2024-06-12 17:22:46.049940: E external/local_xla/xla/service/gpu/conv_algorithm_picker.cc:271] Platform: Compute Capability 6.0\n",
      "2024-06-12 17:22:46.049948: E external/local_xla/xla/service/gpu/conv_algorithm_picker.cc:272] Driver: 12020 (535.129.3)\n",
      "2024-06-12 17:22:46.049956: E external/local_xla/xla/service/gpu/conv_algorithm_picker.cc:273] Runtime: <undefined>\n",
      "2024-06-12 17:22:46.049975: E external/local_xla/xla/service/gpu/conv_algorithm_picker.cc:280] cudnn version: 8.9.0\n"
     ]
    },
    {
     "name": "stdout",
     "output_type": "stream",
     "text": [
      "1046/1046 - 345s - 330ms/step - accuracy: 0.8349 - loss: 1.2123 - val_accuracy: 0.8518 - val_loss: 5.1774 - learning_rate: 2.0000e-04\n",
      "Epoch 2/50\n",
      "1046/1046 - 222s - 213ms/step - accuracy: 0.8633 - loss: 1.1482 - val_accuracy: 0.8615 - val_loss: 6.4934 - learning_rate: 2.0000e-04\n",
      "Epoch 3/50\n",
      "1046/1046 - 262s - 250ms/step - accuracy: 0.8804 - loss: 1.1183 - val_accuracy: 0.8454 - val_loss: 6.7310 - learning_rate: 2.0000e-04\n",
      "Epoch 4/50\n",
      "1046/1046 - 223s - 213ms/step - accuracy: 0.8907 - loss: 1.0967 - val_accuracy: 0.8931 - val_loss: 3.9083 - learning_rate: 2.0000e-04\n",
      "Epoch 5/50\n",
      "1046/1046 - 223s - 213ms/step - accuracy: 0.9011 - loss: 1.0776 - val_accuracy: 0.8921 - val_loss: 3.7992 - learning_rate: 2.0000e-04\n",
      "Epoch 6/50\n",
      "1046/1046 - 222s - 213ms/step - accuracy: 0.9087 - loss: 1.0650 - val_accuracy: 0.8621 - val_loss: 4.5380 - learning_rate: 2.0000e-04\n",
      "Epoch 7/50\n",
      "1046/1046 - 222s - 213ms/step - accuracy: 0.9105 - loss: 1.0560 - val_accuracy: 0.8731 - val_loss: 4.5501 - learning_rate: 2.0000e-04\n",
      "Epoch 8/50\n",
      "1046/1046 - 222s - 213ms/step - accuracy: 0.9163 - loss: 1.0442 - val_accuracy: 0.8911 - val_loss: 3.9785 - learning_rate: 2.0000e-04\n",
      "Epoch 9/50\n",
      "1046/1046 - 222s - 213ms/step - accuracy: 0.9204 - loss: 1.0337 - val_accuracy: 0.8902 - val_loss: 5.6389 - learning_rate: 2.0000e-04\n",
      "Epoch 10/50\n",
      "1046/1046 - 223s - 213ms/step - accuracy: 0.9260 - loss: 1.0234 - val_accuracy: 0.8882 - val_loss: 1.6562 - learning_rate: 2.0000e-04\n",
      "Epoch 11/50\n",
      "1046/1046 - 222s - 212ms/step - accuracy: 0.9291 - loss: 1.0162 - val_accuracy: 0.8218 - val_loss: 1.9657 - learning_rate: 2.0000e-04\n",
      "Epoch 12/50\n",
      "1046/1046 - 222s - 213ms/step - accuracy: 0.9335 - loss: 1.0099 - val_accuracy: 0.8801 - val_loss: 17.9635 - learning_rate: 2.0000e-04\n",
      "Epoch 13/50\n",
      "1046/1046 - 222s - 213ms/step - accuracy: 0.9357 - loss: 1.0015 - val_accuracy: 0.8980 - val_loss: 9.4279 - learning_rate: 2.0000e-04\n",
      "Epoch 14/50\n",
      "1046/1046 - 222s - 213ms/step - accuracy: 0.9383 - loss: 0.9959 - val_accuracy: 0.8981 - val_loss: 13.5887 - learning_rate: 2.0000e-04\n",
      "Epoch 15/50\n",
      "1046/1046 - 222s - 213ms/step - accuracy: 0.9398 - loss: 0.9938 - val_accuracy: 0.8760 - val_loss: 6.6524 - learning_rate: 2.0000e-04\n",
      "Epoch 16/50\n",
      "1046/1046 - 222s - 212ms/step - accuracy: 0.9528 - loss: 0.9674 - val_accuracy: 0.9317 - val_loss: 12.6563 - learning_rate: 1.0000e-04\n",
      "Epoch 17/50\n",
      "1046/1046 - 222s - 212ms/step - accuracy: 0.9554 - loss: 0.9627 - val_accuracy: 0.9251 - val_loss: 16.6465 - learning_rate: 1.0000e-04\n",
      "Epoch 18/50\n",
      "1046/1046 - 222s - 213ms/step - accuracy: 0.9583 - loss: 0.9563 - val_accuracy: 0.9186 - val_loss: 27.0935 - learning_rate: 1.0000e-04\n",
      "Epoch 19/50\n",
      "1046/1046 - 222s - 212ms/step - accuracy: 0.9609 - loss: 0.9512 - val_accuracy: 0.8982 - val_loss: 4.2161 - learning_rate: 1.0000e-04\n",
      "Epoch 20/50\n",
      "1046/1046 - 222s - 213ms/step - accuracy: 0.9629 - loss: 0.9461 - val_accuracy: 0.9157 - val_loss: 8.4188 - learning_rate: 1.0000e-04\n",
      "Epoch 21/50\n",
      "1046/1046 - 222s - 213ms/step - accuracy: 0.9665 - loss: 0.9390 - val_accuracy: 0.8835 - val_loss: 3.7768 - learning_rate: 5.0000e-05\n",
      "Epoch 22/50\n",
      "1046/1046 - 222s - 213ms/step - accuracy: 0.9701 - loss: 0.9335 - val_accuracy: 0.9129 - val_loss: 4.9242 - learning_rate: 5.0000e-05\n",
      "Epoch 23/50\n",
      "1046/1046 - 222s - 212ms/step - accuracy: 0.9708 - loss: 0.9314 - val_accuracy: 0.9339 - val_loss: 21.3453 - learning_rate: 5.0000e-05\n",
      "Epoch 24/50\n",
      "1046/1046 - 222s - 212ms/step - accuracy: 0.9714 - loss: 0.9302 - val_accuracy: 0.9320 - val_loss: 13.4210 - learning_rate: 5.0000e-05\n",
      "Epoch 25/50\n",
      "1046/1046 - 222s - 212ms/step - accuracy: 0.9726 - loss: 0.9276 - val_accuracy: 0.9382 - val_loss: 29.1614 - learning_rate: 5.0000e-05\n",
      "Epoch 26/50\n",
      "1046/1046 - 222s - 213ms/step - accuracy: 0.9749 - loss: 0.9246 - val_accuracy: 0.9321 - val_loss: 10.0889 - learning_rate: 2.5000e-05\n",
      "Epoch 26: early stopping\n",
      "Restoring model weights from the end of the best epoch: 10.\n",
      "Training and fine-tuning completed for the partial dataset\n"
     ]
    }
   ],
   "source": [
    "epochs = 300 \n",
    "label_smoothing=0.2\n",
    "loss_smooth = tf.keras.losses.CategoricalCrossentropy(label_smoothing=label_smoothing)\n",
    "\n",
    "base_optimizer = Adam(learning_rate=0.002)\n",
    "optimizer = LossScaleOptimizer(base_optimizer)\n",
    "model.compile(optimizer=optimizer, loss=loss_smooth, metrics=['accuracy'])\n",
    "\n",
    "reduce_lr = ReduceLROnPlateau(monitor='val_loss', factor=0.5, patience=5, min_lr=0.00001)\n",
    "early_stopping = EarlyStopping(monitor='val_loss', patience=16, restore_best_weights=True, verbose=2)\n",
    "checkpoint_filepath = '/kaggle/working/model1.weights.h5'\n",
    "model_checkpoint_callback = ModelCheckpoint(filepath=checkpoint_filepath,save_weights_only=True,monitor='val_loss', mode='min',save_best_only=True)\n",
    "\n",
    "history = model.fit(\n",
    "    train_dataset, \n",
    "    epochs=50,\n",
    "    validation_data=validation_dataset,\n",
    "    callbacks=[reduce_lr, early_stopping, model_checkpoint_callback], \n",
    "    verbose=2,\n",
    "    class_weight=class_weights_dict,\n",
    ")\n",
    "\n",
    "size2 = (128, 192, 1)\n",
    "model = create_model(size2)\n",
    "\n",
    "loss_smooth = tf.keras.losses.CategoricalCrossentropy(label_smoothing=label_smoothing)\n",
    "base_optimizer = Adam(learning_rate=0.0002)\n",
    "optimizer = LossScaleOptimizer(base_optimizer)\n",
    "model.compile(optimizer=optimizer, loss=loss_smooth, metrics=['accuracy'])\n",
    "model.load_weights('/kaggle/working/model1.weights.h5')\n",
    "\n",
    "fine_tune_train_dataset = train_datagen.flow_from_directory(\n",
    "    '/kaggle/working/training_data',\n",
    "    target_size=image_size2,\n",
    "    batch_size=batch_size2,\n",
    "    color_mode='grayscale',\n",
    "    class_mode='categorical',\n",
    ")\n",
    "\n",
    "fine_tune_validation_dataset = val_datagen.flow_from_directory(\n",
    "    '/kaggle/working/validation_data',\n",
    "    target_size=image_size2,\n",
    "    batch_size=batch_size2,\n",
    "    color_mode='grayscale',\n",
    "    class_mode='categorical',\n",
    ")\n",
    "\n",
    "reduce_lr = ReduceLROnPlateau(monitor='val_loss', factor=0.5, patience=5, min_lr=0.000001)\n",
    "early_stopping = EarlyStopping(monitor='val_loss', patience=16, restore_best_weights=True, verbose=2)\n",
    "checkpoint_filepath2 = '/kaggle/working/model2.weights.h5'\n",
    "model_checkpoint_callback2 = ModelCheckpoint(filepath=checkpoint_filepath2,save_weights_only=True,monitor='val_loss', mode='min',save_best_only=True)\n",
    "\n",
    "history = model.fit(\n",
    "    fine_tune_train_dataset, \n",
    "    epochs=50,\n",
    "    validation_data=fine_tune_validation_dataset,\n",
    "    callbacks=[reduce_lr, early_stopping, model_checkpoint_callback2], \n",
    "    verbose=2,\n",
    "    class_weight=class_weights_dict,\n",
    ")\n",
    "\n",
    "print('Training and fine-tuning completed for the partial dataset')"
   ]
  },
  {
   "cell_type": "markdown",
   "id": "cd642286",
   "metadata": {
    "papermill": {
     "duration": 0.047486,
     "end_time": "2024-06-12T18:56:17.390971",
     "exception": false,
     "start_time": "2024-06-12T18:56:17.343485",
     "status": "completed"
    },
    "tags": []
   },
   "source": [
    "### Evaluation and Visualization\n",
    "\n",
    "In this section, we evaluate the performance of our model using a confusion matrix and classification report. Additionally, we visualize the training history to understand the model's learning process over epochs.\n"
   ]
  },
  {
   "cell_type": "code",
   "execution_count": 10,
   "id": "0dd9b7f5",
   "metadata": {
    "execution": {
     "iopub.execute_input": "2024-06-12T18:56:17.492507Z",
     "iopub.status.busy": "2024-06-12T18:56:17.492088Z",
     "iopub.status.idle": "2024-06-12T18:56:36.086972Z",
     "shell.execute_reply": "2024-06-12T18:56:36.085779Z"
    },
    "papermill": {
     "duration": 18.648057,
     "end_time": "2024-06-12T18:56:36.090016",
     "exception": false,
     "start_time": "2024-06-12T18:56:17.441959",
     "status": "completed"
    },
    "tags": []
   },
   "outputs": [
    {
     "name": "stdout",
     "output_type": "stream",
     "text": [
      "\u001b[1m262/262\u001b[0m \u001b[32m━━━━━━━━━━━━━━━━━━━━\u001b[0m\u001b[37m\u001b[0m \u001b[1m17s\u001b[0m 62ms/step\n"
     ]
    },
    {
     "data": {
      "image/png": "[encoded data removed]",
      "text/plain": [
       "<Figure size 1000x800 with 2 Axes>"
      ]
     },
     "metadata": {},
     "output_type": "display_data"
    },
    {
     "name": "stdout",
     "output_type": "stream",
     "text": [
      "Classification Report:\n",
      "                      precision    recall  f1-score   support\n",
      "\n",
      "   coastguard_scaled       0.11      0.08      0.09       688\n",
      "containership_scaled       0.18      0.18      0.18      1388\n",
      "     corvette_scaled       0.07      0.09      0.08       588\n",
      "      cruiser_scaled       0.17      0.17      0.17      1383\n",
      "           cv_scaled       0.07      0.09      0.08       401\n",
      "    destroyer_scaled       0.16      0.12      0.14      1307\n",
      "    methanier_scaled       0.10      0.12      0.11       700\n",
      "    smallfish_scaled       0.07      0.08      0.08       668\n",
      "    submarine_scaled       0.05      0.05      0.05       562\n",
      "          tug_scaled       0.10      0.12      0.11       686\n",
      "\n",
      "            accuracy                           0.12      8371\n",
      "           macro avg       0.11      0.11      0.11      8371\n",
      "        weighted avg       0.13      0.12      0.12      8371\n",
      "\n"
     ]
    },
    {
     "data": {
      "image/png": "[encoded data removed]",
      "text/plain": [
       "<Figure size 1400x600 with 2 Axes>"
      ]
     },
     "metadata": {},
     "output_type": "display_data"
    }
   ],
   "source": [
    "true_labels = fine_tune_validation_dataset.classes\n",
    "predictions = model.predict(fine_tune_validation_dataset)\n",
    "predicted_labels = np.argmax(predictions, axis=1)\n",
    "\n",
    "cm = confusion_matrix(true_labels, predicted_labels)\n",
    "\n",
    "plt.figure(figsize=(10, 8))\n",
    "sns.heatmap(cm, annot=True, fmt='d', cmap='Blues', xticklabels=fine_tune_validation_dataset.class_indices, yticklabels=fine_tune_validation_dataset.class_indices)\n",
    "plt.xlabel('Predicted Labels')\n",
    "plt.ylabel('True Labels')\n",
    "plt.title('Confusion Matrix')\n",
    "plt.show()\n",
    "\n",
    "report = classification_report(true_labels, predicted_labels, target_names=fine_tune_validation_dataset.class_indices)\n",
    "print('Classification Report:')\n",
    "print(report)\n",
    "\n",
    "def plot_history(history):\n",
    "    acc = history.history['accuracy']\n",
    "    val_acc = history.history['val_accuracy']\n",
    "    loss = history.history['loss']\n",
    "    val_loss = history.history['val_loss']\n",
    "\n",
    "    epochs_range = range(len(acc))\n",
    "\n",
    "    plt.figure(figsize=(14, 6))\n",
    "    \n",
    "    plt.subplot(1, 2, 1)\n",
    "    plt.plot(epochs_range, acc, label='Training Accuracy')\n",
    "    plt.plot(epochs_range, val_acc, label='Validation Accuracy')\n",
    "    plt.legend(loc='lower right')\n",
    "    plt.title('Training and Validation Accuracy')\n",
    "\n",
    "    plt.subplot(1, 2, 2)\n",
    "    plt.plot(epochs_range, loss, label='Training Loss')\n",
    "    plt.plot(epochs_range, val_loss, label='Validation Loss')\n",
    "    plt.legend(loc='upper right')\n",
    "    plt.title('Training and Validation Loss')\n",
    "    plt.show()\n",
    "\n",
    "plot_history(history)"
   ]
  },
  {
   "cell_type": "markdown",
   "id": "51eda333",
   "metadata": {
    "papermill": {
     "duration": 0.073684,
     "end_time": "2024-06-12T18:56:36.249316",
     "exception": false,
     "start_time": "2024-06-12T18:56:36.175632",
     "status": "completed"
    },
    "tags": []
   },
   "source": [
    "### Model Evaluation\n",
    "\n",
    "In this section, we load the best weights from the fine-tuning phase and evaluate the model on the validation dataset. This step allows us to assess the performance of the model in terms of loss and accuracy after the training and fine-tuning processes.\n"
   ]
  },
  {
   "cell_type": "code",
   "execution_count": 11,
   "id": "ea2b09db",
   "metadata": {
    "execution": {
     "iopub.execute_input": "2024-06-12T18:56:36.396910Z",
     "iopub.status.busy": "2024-06-12T18:56:36.396537Z",
     "iopub.status.idle": "2024-06-12T18:56:42.881485Z",
     "shell.execute_reply": "2024-06-12T18:56:42.880330Z"
    },
    "papermill": {
     "duration": 6.562982,
     "end_time": "2024-06-12T18:56:42.883595",
     "exception": false,
     "start_time": "2024-06-12T18:56:36.320613",
     "status": "completed"
    },
    "tags": []
   },
   "outputs": [
    {
     "name": "stderr",
     "output_type": "stream",
     "text": [
      "W0000 00:00:1718218598.401748      87 graph_launch.cc:671] Fallback to op-by-op mode because memset node breaks graph update\n"
     ]
    },
    {
     "name": "stdout",
     "output_type": "stream",
     "text": [
      "\u001b[1m17/17\u001b[0m \u001b[32m━━━━━━━━━━━━━━━━━━━━\u001b[0m\u001b[37m\u001b[0m \u001b[1m6s\u001b[0m 265ms/step - accuracy: 0.7364 - loss: 1.4765\n",
      "Validation Loss: 1.6396849155426025\n",
      "Validation Accuracy: 0.7183132171630859\n"
     ]
    }
   ],
   "source": [
    "model.load_weights('/kaggle/working/model2.weights.h5')\n",
    "\n",
    "loss, accuracy= model.evaluate(validation_dataset)\n",
    "print(\"Validation Loss:\", loss)\n",
    "print(\"Validation Accuracy:\", accuracy)"
   ]
  },
  {
   "cell_type": "markdown",
   "id": "28003de1",
   "metadata": {
    "papermill": {
     "duration": 0.077172,
     "end_time": "2024-06-12T18:56:43.038789",
     "exception": false,
     "start_time": "2024-06-12T18:56:42.961617",
     "status": "completed"
    },
    "tags": []
   },
   "source": [
    "### Model Prediction and Initial Submission\n",
    "\n",
    "In this section, we load the test dataset, preprocess it, and use the trained model to make predictions. The results are then saved to a CSV file for submission. This allows us to get an initial evaluation of the performance of our model."
   ]
  },
  {
   "cell_type": "code",
   "execution_count": 12,
   "id": "3aec1b45",
   "metadata": {
    "execution": {
     "iopub.execute_input": "2024-06-12T18:56:43.188018Z",
     "iopub.status.busy": "2024-06-12T18:56:43.187267Z",
     "iopub.status.idle": "2024-06-12T18:57:02.243942Z",
     "shell.execute_reply": "2024-06-12T18:57:02.242883Z"
    },
    "papermill": {
     "duration": 19.134352,
     "end_time": "2024-06-12T18:57:02.246300",
     "exception": false,
     "start_time": "2024-06-12T18:56:43.111948",
     "status": "completed"
    },
    "tags": []
   },
   "outputs": [
    {
     "name": "stdout",
     "output_type": "stream",
     "text": [
      "(1017, 128, 192)\n",
      "\u001b[1m31/32\u001b[0m \u001b[32m━━━━━━━━━━━━━━━━━━━\u001b[0m\u001b[37m━\u001b[0m \u001b[1m0s\u001b[0m 58ms/step"
     ]
    },
    {
     "name": "stderr",
     "output_type": "stream",
     "text": [
      "2024-06-12 18:56:47.558967: E external/local_xla/xla/service/gpu/buffer_comparator.cc:1137] Difference at 0: 1.61324, expected 0.662364\n",
      "2024-06-12 18:56:47.559033: E external/local_xla/xla/service/gpu/buffer_comparator.cc:1137] Difference at 1: 2.12558, expected 1.17471\n",
      "2024-06-12 18:56:47.559044: E external/local_xla/xla/service/gpu/buffer_comparator.cc:1137] Difference at 2: 1.97103, expected 1.02015\n",
      "2024-06-12 18:56:47.559053: E external/local_xla/xla/service/gpu/buffer_comparator.cc:1137] Difference at 3: 2.17737, expected 1.22649\n",
      "2024-06-12 18:56:47.559062: E external/local_xla/xla/service/gpu/buffer_comparator.cc:1137] Difference at 4: 1.97156, expected 1.02069\n",
      "2024-06-12 18:56:47.559071: E external/local_xla/xla/service/gpu/buffer_comparator.cc:1137] Difference at 5: 1.78131, expected 0.830437\n",
      "2024-06-12 18:56:47.559080: E external/local_xla/xla/service/gpu/buffer_comparator.cc:1137] Difference at 6: 2.55513, expected 1.60426\n",
      "2024-06-12 18:56:47.559089: E external/local_xla/xla/service/gpu/buffer_comparator.cc:1137] Difference at 7: 1.91182, expected 0.96095\n",
      "2024-06-12 18:56:47.559112: E external/local_xla/xla/service/gpu/buffer_comparator.cc:1137] Difference at 8: 2.00075, expected 1.04987\n",
      "2024-06-12 18:56:47.559128: E external/local_xla/xla/service/gpu/buffer_comparator.cc:1137] Difference at 9: 2.10742, expected 1.15655\n",
      "2024-06-12 18:56:47.603849: E external/local_xla/xla/service/gpu/conv_algorithm_picker.cc:705] Results mismatch between different convolution algorithms. This is likely a bug/unexpected loss of precision in cudnn.\n",
      "(f32[25,128,128,192]{3,2,1,0}, u8[0]{0}) custom-call(f32[25,1,128,192]{3,2,1,0}, f32[128,1,3,3]{3,2,1,0}, f32[128]{0}), window={size=3x3 pad=1_1x1_1}, dim_labels=bf01_oi01->bf01, custom_call_target=\"__cudnn$convBiasActivationForward\", backend_config={\"conv_result_scale\":1,\"activation_mode\":\"kRelu\",\"side_input_scale\":0,\"leakyrelu_alpha\":0} for eng20{k2=1,k4=1,k5=1,k6=0,k7=0} vs eng15{k5=1,k6=0,k7=1,k10=1}\n",
      "2024-06-12 18:56:47.603906: E external/local_xla/xla/service/gpu/conv_algorithm_picker.cc:270] Device: Tesla P100-PCIE-16GB\n",
      "2024-06-12 18:56:47.603915: E external/local_xla/xla/service/gpu/conv_algorithm_picker.cc:271] Platform: Compute Capability 6.0\n",
      "2024-06-12 18:56:47.603923: E external/local_xla/xla/service/gpu/conv_algorithm_picker.cc:272] Driver: 12020 (535.129.3)\n",
      "2024-06-12 18:56:47.603931: E external/local_xla/xla/service/gpu/conv_algorithm_picker.cc:273] Runtime: <undefined>\n",
      "2024-06-12 18:56:47.603949: E external/local_xla/xla/service/gpu/conv_algorithm_picker.cc:280] cudnn version: 8.9.0\n",
      "2024-06-12 18:56:48.327471: E external/local_xla/xla/service/gpu/buffer_comparator.cc:1137] Difference at 0: 1.61324, expected 0.662364\n",
      "2024-06-12 18:56:48.327529: E external/local_xla/xla/service/gpu/buffer_comparator.cc:1137] Difference at 1: 2.12558, expected 1.17471\n",
      "2024-06-12 18:56:48.327538: E external/local_xla/xla/service/gpu/buffer_comparator.cc:1137] Difference at 2: 1.97103, expected 1.02015\n",
      "2024-06-12 18:56:48.327546: E external/local_xla/xla/service/gpu/buffer_comparator.cc:1137] Difference at 3: 2.17737, expected 1.22649\n",
      "2024-06-12 18:56:48.327554: E external/local_xla/xla/service/gpu/buffer_comparator.cc:1137] Difference at 4: 1.97156, expected 1.02069\n",
      "2024-06-12 18:56:48.327562: E external/local_xla/xla/service/gpu/buffer_comparator.cc:1137] Difference at 5: 1.78131, expected 0.830437\n",
      "2024-06-12 18:56:48.327569: E external/local_xla/xla/service/gpu/buffer_comparator.cc:1137] Difference at 6: 2.55513, expected 1.60426\n",
      "2024-06-12 18:56:48.327577: E external/local_xla/xla/service/gpu/buffer_comparator.cc:1137] Difference at 7: 1.91182, expected 0.96095\n",
      "2024-06-12 18:56:48.327585: E external/local_xla/xla/service/gpu/buffer_comparator.cc:1137] Difference at 8: 2.00075, expected 1.04987\n",
      "2024-06-12 18:56:48.327592: E external/local_xla/xla/service/gpu/buffer_comparator.cc:1137] Difference at 9: 2.10742, expected 1.15655\n",
      "2024-06-12 18:56:48.367645: E external/local_xla/xla/service/gpu/conv_algorithm_picker.cc:705] Results mismatch between different convolution algorithms. This is likely a bug/unexpected loss of precision in cudnn.\n",
      "(f32[25,128,128,192]{3,2,1,0}, u8[0]{0}) custom-call(f32[25,1,128,192]{3,2,1,0}, f32[128,1,3,3]{3,2,1,0}, f32[128]{0}), window={size=3x3 pad=1_1x1_1}, dim_labels=bf01_oi01->bf01, custom_call_target=\"__cudnn$convBiasActivationForward\", backend_config={\"conv_result_scale\":1,\"activation_mode\":\"kRelu\",\"side_input_scale\":0,\"leakyrelu_alpha\":0} for eng20{k2=1,k4=1,k5=1,k6=0,k7=0} vs eng15{k5=1,k6=0,k7=1,k10=1}\n",
      "2024-06-12 18:56:48.367692: E external/local_xla/xla/service/gpu/conv_algorithm_picker.cc:270] Device: Tesla P100-PCIE-16GB\n",
      "2024-06-12 18:56:48.367701: E external/local_xla/xla/service/gpu/conv_algorithm_picker.cc:271] Platform: Compute Capability 6.0\n",
      "2024-06-12 18:56:48.367708: E external/local_xla/xla/service/gpu/conv_algorithm_picker.cc:272] Driver: 12020 (535.129.3)\n",
      "2024-06-12 18:56:48.367716: E external/local_xla/xla/service/gpu/conv_algorithm_picker.cc:273] Runtime: <undefined>\n",
      "2024-06-12 18:56:48.367732: E external/local_xla/xla/service/gpu/conv_algorithm_picker.cc:280] cudnn version: 8.9.0\n"
     ]
    },
    {
     "name": "stdout",
     "output_type": "stream",
     "text": [
      "\u001b[1m32/32\u001b[0m \u001b[32m━━━━━━━━━━━━━━━━━━━━\u001b[0m\u001b[37m\u001b[0m \u001b[1m18s\u001b[0m 564ms/step\n"
     ]
    },
    {
     "data": {
      "text/html": [
       "<a href='submission.csv' target='_blank'>submission.csv</a><br>"
      ],
      "text/plain": [
       "/kaggle/working/submission.csv"
      ]
     },
     "execution_count": 12,
     "metadata": {},
     "output_type": "execute_result"
    }
   ],
   "source": [
    "X_test = np.load('/kaggle/working/test.npy', allow_pickle=True)\n",
    "print(X_test.shape)\n",
    "X_test = X_test.astype('float32') / 255\n",
    "\n",
    "model.load_weights('/kaggle/working/model2.weights.h5')\n",
    "res = model.predict(X_test).argmax(axis=1)\n",
    "df = pd.DataFrame({\"Category\":res})\n",
    "df.to_csv(\"submission.csv\", index_label=\"ID\")\n",
    "os.chdir(r'/kaggle/working')\n",
    "FileLink(r'submission.csv')"
   ]
  },
  {
   "cell_type": "markdown",
   "id": "af12df5b",
   "metadata": {
    "papermill": {
     "duration": 0.080435,
     "end_time": "2024-06-12T18:57:02.407728",
     "exception": false,
     "start_time": "2024-06-12T18:57:02.327293",
     "status": "completed"
    },
    "tags": []
   },
   "source": [
    "### Last Round !\n",
    "\n",
    "In this section, we repeat the same process as before, but with some important adjustments. This time, we will train on the entire dataset with a slightly smaller batch size and a reduced learning rate. These changes are necessary because the model has already been trained over several epochs, and we want to fine-tune it further for optimal performance.\n"
   ]
  },
  {
   "cell_type": "code",
   "execution_count": 13,
   "id": "11351732",
   "metadata": {
    "execution": {
     "iopub.execute_input": "2024-06-12T18:57:02.573267Z",
     "iopub.status.busy": "2024-06-12T18:57:02.572516Z",
     "iopub.status.idle": "2024-06-12T21:13:53.856592Z",
     "shell.execute_reply": "2024-06-12T21:13:53.855575Z"
    },
    "papermill": {
     "duration": 8211.369542,
     "end_time": "2024-06-12T21:13:53.859157",
     "exception": false,
     "start_time": "2024-06-12T18:57:02.489615",
     "status": "completed"
    },
    "tags": []
   },
   "outputs": [
    {
     "name": "stdout",
     "output_type": "stream",
     "text": [
      "Found 41831 images belonging to 10 classes.\n",
      "Epoch 1/30\n"
     ]
    },
    {
     "name": "stderr",
     "output_type": "stream",
     "text": [
      "/opt/conda/lib/python3.10/site-packages/keras/src/trainers/data_adapters/py_dataset_adapter.py:120: UserWarning: Your `PyDataset` class should call `super().__init__(**kwargs)` in its constructor. `**kwargs` can include `workers`, `use_multiprocessing`, `max_queue_size`. Do not pass these arguments to `fit()`, as they will be ignored.\n",
      "  self._warn_if_super_not_called()\n",
      "2024-06-12 18:57:17.793914: E external/local_xla/xla/service/gpu/buffer_comparator.cc:1137] Difference at 0: 1.68172, expected 0.90198\n",
      "2024-06-12 18:57:17.793976: E external/local_xla/xla/service/gpu/buffer_comparator.cc:1137] Difference at 1: 1.58073, expected 0.800992\n",
      "2024-06-12 18:57:17.793987: E external/local_xla/xla/service/gpu/buffer_comparator.cc:1137] Difference at 2: 2.04324, expected 1.2635\n",
      "2024-06-12 18:57:17.793995: E external/local_xla/xla/service/gpu/buffer_comparator.cc:1137] Difference at 3: 1.82802, expected 1.04828\n",
      "2024-06-12 18:57:17.794003: E external/local_xla/xla/service/gpu/buffer_comparator.cc:1137] Difference at 4: 1.43804, expected 0.658296\n",
      "2024-06-12 18:57:17.794133: E external/local_xla/xla/service/gpu/buffer_comparator.cc:1137] Difference at 5: 2.06564, expected 1.2859\n",
      "2024-06-12 18:57:17.794146: E external/local_xla/xla/service/gpu/buffer_comparator.cc:1137] Difference at 6: 2.03519, expected 1.25545\n",
      "2024-06-12 18:57:17.794155: E external/local_xla/xla/service/gpu/buffer_comparator.cc:1137] Difference at 7: 1.46675, expected 0.687009\n",
      "2024-06-12 18:57:17.794163: E external/local_xla/xla/service/gpu/buffer_comparator.cc:1137] Difference at 8: 1.66865, expected 0.888915\n",
      "2024-06-12 18:57:17.794171: E external/local_xla/xla/service/gpu/buffer_comparator.cc:1137] Difference at 9: 1.57074, expected 0.791003\n",
      "2024-06-12 18:57:17.820714: E external/local_xla/xla/service/gpu/conv_algorithm_picker.cc:705] Results mismatch between different convolution algorithms. This is likely a bug/unexpected loss of precision in cudnn.\n",
      "(f32[16,128,128,192]{3,2,1,0}, u8[0]{0}) custom-call(f32[16,1,128,192]{3,2,1,0}, f32[128,1,3,3]{3,2,1,0}, f32[128]{0}), window={size=3x3 pad=1_1x1_1}, dim_labels=bf01_oi01->bf01, custom_call_target=\"__cudnn$convBiasActivationForward\", backend_config={\"conv_result_scale\":1,\"activation_mode\":\"kRelu\",\"side_input_scale\":0,\"leakyrelu_alpha\":0} for eng20{k2=1,k4=1,k5=1,k6=0,k7=0} vs eng15{k5=1,k6=0,k7=1,k10=1}\n",
      "2024-06-12 18:57:17.820755: E external/local_xla/xla/service/gpu/conv_algorithm_picker.cc:270] Device: Tesla P100-PCIE-16GB\n",
      "2024-06-12 18:57:17.820763: E external/local_xla/xla/service/gpu/conv_algorithm_picker.cc:271] Platform: Compute Capability 6.0\n",
      "2024-06-12 18:57:17.820770: E external/local_xla/xla/service/gpu/conv_algorithm_picker.cc:272] Driver: 12020 (535.129.3)\n",
      "2024-06-12 18:57:17.820776: E external/local_xla/xla/service/gpu/conv_algorithm_picker.cc:273] Runtime: <undefined>\n",
      "2024-06-12 18:57:17.820792: E external/local_xla/xla/service/gpu/conv_algorithm_picker.cc:280] cudnn version: 8.9.0\n",
      "2024-06-12 18:57:18.345239: E external/local_xla/xla/service/gpu/buffer_comparator.cc:1137] Difference at 0: 1.68172, expected 0.90198\n",
      "2024-06-12 18:57:18.345313: E external/local_xla/xla/service/gpu/buffer_comparator.cc:1137] Difference at 1: 1.58073, expected 0.800992\n",
      "2024-06-12 18:57:18.345324: E external/local_xla/xla/service/gpu/buffer_comparator.cc:1137] Difference at 2: 2.04324, expected 1.2635\n",
      "2024-06-12 18:57:18.345332: E external/local_xla/xla/service/gpu/buffer_comparator.cc:1137] Difference at 3: 1.82802, expected 1.04828\n",
      "2024-06-12 18:57:18.345341: E external/local_xla/xla/service/gpu/buffer_comparator.cc:1137] Difference at 4: 1.43804, expected 0.658296\n",
      "2024-06-12 18:57:18.345349: E external/local_xla/xla/service/gpu/buffer_comparator.cc:1137] Difference at 5: 2.06564, expected 1.2859\n",
      "2024-06-12 18:57:18.345357: E external/local_xla/xla/service/gpu/buffer_comparator.cc:1137] Difference at 6: 2.03519, expected 1.25545\n",
      "2024-06-12 18:57:18.345366: E external/local_xla/xla/service/gpu/buffer_comparator.cc:1137] Difference at 7: 1.46675, expected 0.687009\n",
      "2024-06-12 18:57:18.345374: E external/local_xla/xla/service/gpu/buffer_comparator.cc:1137] Difference at 8: 1.66865, expected 0.888915\n",
      "2024-06-12 18:57:18.345401: E external/local_xla/xla/service/gpu/buffer_comparator.cc:1137] Difference at 9: 1.57074, expected 0.791003\n",
      "2024-06-12 18:57:18.371800: E external/local_xla/xla/service/gpu/conv_algorithm_picker.cc:705] Results mismatch between different convolution algorithms. This is likely a bug/unexpected loss of precision in cudnn.\n",
      "(f32[16,128,128,192]{3,2,1,0}, u8[0]{0}) custom-call(f32[16,1,128,192]{3,2,1,0}, f32[128,1,3,3]{3,2,1,0}, f32[128]{0}), window={size=3x3 pad=1_1x1_1}, dim_labels=bf01_oi01->bf01, custom_call_target=\"__cudnn$convBiasActivationForward\", backend_config={\"conv_result_scale\":1,\"activation_mode\":\"kRelu\",\"side_input_scale\":0,\"leakyrelu_alpha\":0} for eng20{k2=1,k4=1,k5=1,k6=0,k7=0} vs eng15{k5=1,k6=0,k7=1,k10=1}\n",
      "2024-06-12 18:57:18.371868: E external/local_xla/xla/service/gpu/conv_algorithm_picker.cc:270] Device: Tesla P100-PCIE-16GB\n",
      "2024-06-12 18:57:18.371877: E external/local_xla/xla/service/gpu/conv_algorithm_picker.cc:271] Platform: Compute Capability 6.0\n",
      "2024-06-12 18:57:18.371884: E external/local_xla/xla/service/gpu/conv_algorithm_picker.cc:272] Driver: 12020 (535.129.3)\n",
      "2024-06-12 18:57:18.371891: E external/local_xla/xla/service/gpu/conv_algorithm_picker.cc:273] Runtime: <undefined>\n",
      "2024-06-12 18:57:18.371908: E external/local_xla/xla/service/gpu/conv_algorithm_picker.cc:280] cudnn version: 8.9.0\n",
      "2024-06-12 18:58:53.658837: E external/local_xla/xla/service/gpu/buffer_comparator.cc:1137] Difference at 0: 1.95177, expected 1.53359\n",
      "2024-06-12 18:58:53.658899: E external/local_xla/xla/service/gpu/buffer_comparator.cc:1137] Difference at 1: 2.73808, expected 2.31989\n",
      "2024-06-12 18:58:53.658913: E external/local_xla/xla/service/gpu/buffer_comparator.cc:1137] Difference at 2: 2.59974, expected 2.18156\n",
      "2024-06-12 18:58:53.658926: E external/local_xla/xla/service/gpu/buffer_comparator.cc:1137] Difference at 3: 2.49081, expected 2.07263\n",
      "2024-06-12 18:58:53.658944: E external/local_xla/xla/service/gpu/buffer_comparator.cc:1137] Difference at 4: 2.56225, expected 2.14406\n",
      "2024-06-12 18:58:53.658954: E external/local_xla/xla/service/gpu/buffer_comparator.cc:1137] Difference at 5: 2.79699, expected 2.37881\n",
      "2024-06-12 18:58:53.658965: E external/local_xla/xla/service/gpu/buffer_comparator.cc:1137] Difference at 6: 2.96365, expected 2.54546\n",
      "2024-06-12 18:58:53.658976: E external/local_xla/xla/service/gpu/buffer_comparator.cc:1137] Difference at 7: 2.4306, expected 2.01241\n",
      "2024-06-12 18:58:53.658986: E external/local_xla/xla/service/gpu/buffer_comparator.cc:1137] Difference at 8: 2.23339, expected 1.81521\n",
      "2024-06-12 18:58:53.658997: E external/local_xla/xla/service/gpu/buffer_comparator.cc:1137] Difference at 9: 2.81769, expected 2.3995\n",
      "2024-06-12 18:58:53.669447: E external/local_xla/xla/service/gpu/conv_algorithm_picker.cc:705] Results mismatch between different convolution algorithms. This is likely a bug/unexpected loss of precision in cudnn.\n",
      "(f32[7,128,128,192]{3,2,1,0}, u8[0]{0}) custom-call(f32[7,1,128,192]{3,2,1,0}, f32[128,1,3,3]{3,2,1,0}, f32[128]{0}), window={size=3x3 pad=1_1x1_1}, dim_labels=bf01_oi01->bf01, custom_call_target=\"__cudnn$convBiasActivationForward\", backend_config={\"conv_result_scale\":1,\"activation_mode\":\"kRelu\",\"side_input_scale\":0,\"leakyrelu_alpha\":0} for eng20{k2=1,k4=1,k5=1,k6=0,k7=0} vs eng15{k5=1,k6=0,k7=1,k10=1}\n",
      "2024-06-12 18:58:53.669500: E external/local_xla/xla/service/gpu/conv_algorithm_picker.cc:270] Device: Tesla P100-PCIE-16GB\n",
      "2024-06-12 18:58:53.669516: E external/local_xla/xla/service/gpu/conv_algorithm_picker.cc:271] Platform: Compute Capability 6.0\n",
      "2024-06-12 18:58:53.669532: E external/local_xla/xla/service/gpu/conv_algorithm_picker.cc:272] Driver: 12020 (535.129.3)\n",
      "2024-06-12 18:58:53.669545: E external/local_xla/xla/service/gpu/conv_algorithm_picker.cc:273] Runtime: <undefined>\n",
      "2024-06-12 18:58:53.669568: E external/local_xla/xla/service/gpu/conv_algorithm_picker.cc:280] cudnn version: 8.9.0\n",
      "2024-06-12 18:58:53.893236: E external/local_xla/xla/service/gpu/buffer_comparator.cc:1137] Difference at 0: 1.95177, expected 1.53359\n",
      "2024-06-12 18:58:53.893304: E external/local_xla/xla/service/gpu/buffer_comparator.cc:1137] Difference at 1: 2.73808, expected 2.31989\n",
      "2024-06-12 18:58:53.893322: E external/local_xla/xla/service/gpu/buffer_comparator.cc:1137] Difference at 2: 2.59974, expected 2.18156\n",
      "2024-06-12 18:58:53.893336: E external/local_xla/xla/service/gpu/buffer_comparator.cc:1137] Difference at 3: 2.49081, expected 2.07263\n",
      "2024-06-12 18:58:53.893349: E external/local_xla/xla/service/gpu/buffer_comparator.cc:1137] Difference at 4: 2.56225, expected 2.14406\n",
      "2024-06-12 18:58:53.893362: E external/local_xla/xla/service/gpu/buffer_comparator.cc:1137] Difference at 5: 2.79699, expected 2.37881\n",
      "2024-06-12 18:58:53.893374: E external/local_xla/xla/service/gpu/buffer_comparator.cc:1137] Difference at 6: 2.96365, expected 2.54546\n",
      "2024-06-12 18:58:53.893387: E external/local_xla/xla/service/gpu/buffer_comparator.cc:1137] Difference at 7: 2.4306, expected 2.01241\n",
      "2024-06-12 18:58:53.893400: E external/local_xla/xla/service/gpu/buffer_comparator.cc:1137] Difference at 8: 2.23339, expected 1.81521\n",
      "2024-06-12 18:58:53.893413: E external/local_xla/xla/service/gpu/buffer_comparator.cc:1137] Difference at 9: 2.81769, expected 2.3995\n",
      "2024-06-12 18:58:53.909984: E external/local_xla/xla/service/gpu/conv_algorithm_picker.cc:705] Results mismatch between different convolution algorithms. This is likely a bug/unexpected loss of precision in cudnn.\n",
      "(f32[7,128,128,192]{3,2,1,0}, u8[0]{0}) custom-call(f32[7,1,128,192]{3,2,1,0}, f32[128,1,3,3]{3,2,1,0}, f32[128]{0}), window={size=3x3 pad=1_1x1_1}, dim_labels=bf01_oi01->bf01, custom_call_target=\"__cudnn$convBiasActivationForward\", backend_config={\"conv_result_scale\":1,\"activation_mode\":\"kRelu\",\"side_input_scale\":0,\"leakyrelu_alpha\":0} for eng20{k2=1,k4=1,k5=1,k6=0,k7=0} vs eng15{k5=1,k6=0,k7=1,k10=1}\n",
      "2024-06-12 18:58:53.910056: E external/local_xla/xla/service/gpu/conv_algorithm_picker.cc:270] Device: Tesla P100-PCIE-16GB\n",
      "2024-06-12 18:58:53.910071: E external/local_xla/xla/service/gpu/conv_algorithm_picker.cc:271] Platform: Compute Capability 6.0\n",
      "2024-06-12 18:58:53.910082: E external/local_xla/xla/service/gpu/conv_algorithm_picker.cc:272] Driver: 12020 (535.129.3)\n",
      "2024-06-12 18:58:53.910093: E external/local_xla/xla/service/gpu/conv_algorithm_picker.cc:273] Runtime: <undefined>\n",
      "2024-06-12 18:58:53.910129: E external/local_xla/xla/service/gpu/conv_algorithm_picker.cc:280] cudnn version: 8.9.0\n"
     ]
    },
    {
     "name": "stdout",
     "output_type": "stream",
     "text": [
      "2615/2615 - 343s - 131ms/step - accuracy: 0.9247 - loss: 1.0269 - learning_rate: 5.0000e-05\n",
      "Epoch 2/30\n",
      "2615/2615 - 271s - 104ms/step - accuracy: 0.9299 - loss: 1.0160 - learning_rate: 5.0000e-05\n",
      "Epoch 3/30\n",
      "2615/2615 - 271s - 104ms/step - accuracy: 0.9329 - loss: 1.0084 - learning_rate: 5.0000e-05\n",
      "Epoch 4/30\n",
      "2615/2615 - 271s - 104ms/step - accuracy: 0.9381 - loss: 1.0005 - learning_rate: 5.0000e-05\n",
      "Epoch 5/30\n",
      "2615/2615 - 271s - 104ms/step - accuracy: 0.9393 - loss: 0.9959 - learning_rate: 5.0000e-05\n",
      "Epoch 6/30\n",
      "2615/2615 - 271s - 104ms/step - accuracy: 0.9397 - loss: 0.9947 - learning_rate: 5.0000e-05\n",
      "Epoch 7/30\n",
      "2615/2615 - 272s - 104ms/step - accuracy: 0.9442 - loss: 0.9863 - learning_rate: 5.0000e-05\n",
      "Epoch 8/30\n",
      "2615/2615 - 271s - 104ms/step - accuracy: 0.9464 - loss: 0.9814 - learning_rate: 5.0000e-05\n",
      "Epoch 9/30\n",
      "2615/2615 - 271s - 104ms/step - accuracy: 0.9464 - loss: 0.9796 - learning_rate: 5.0000e-05\n",
      "Epoch 10/30\n",
      "2615/2615 - 271s - 104ms/step - accuracy: 0.9494 - loss: 0.9762 - learning_rate: 5.0000e-05\n",
      "Epoch 11/30\n",
      "2615/2615 - 271s - 104ms/step - accuracy: 0.9504 - loss: 0.9732 - learning_rate: 5.0000e-05\n",
      "Epoch 12/30\n",
      "2615/2615 - 271s - 104ms/step - accuracy: 0.9519 - loss: 0.9700 - learning_rate: 5.0000e-05\n",
      "Epoch 13/30\n",
      "2615/2615 - 271s - 104ms/step - accuracy: 0.9534 - loss: 0.9648 - learning_rate: 5.0000e-05\n",
      "Epoch 14/30\n",
      "2615/2615 - 270s - 103ms/step - accuracy: 0.9529 - loss: 0.9654 - learning_rate: 5.0000e-05\n",
      "Epoch 15/30\n",
      "2615/2615 - 271s - 104ms/step - accuracy: 0.9556 - loss: 0.9621 - learning_rate: 5.0000e-05\n",
      "Epoch 16/30\n",
      "2615/2615 - 271s - 104ms/step - accuracy: 0.9579 - loss: 0.9574 - learning_rate: 5.0000e-05\n",
      "Epoch 17/30\n",
      "2615/2615 - 271s - 104ms/step - accuracy: 0.9612 - loss: 0.9518 - learning_rate: 5.0000e-05\n",
      "Epoch 18/30\n",
      "2615/2615 - 270s - 103ms/step - accuracy: 0.9595 - loss: 0.9539 - learning_rate: 5.0000e-05\n",
      "Epoch 19/30\n",
      "2615/2615 - 270s - 103ms/step - accuracy: 0.9604 - loss: 0.9520 - learning_rate: 5.0000e-05\n",
      "Epoch 20/30\n",
      "2615/2615 - 271s - 104ms/step - accuracy: 0.9628 - loss: 0.9473 - learning_rate: 5.0000e-05\n",
      "Epoch 21/30\n",
      "2615/2615 - 271s - 104ms/step - accuracy: 0.9636 - loss: 0.9458 - learning_rate: 5.0000e-05\n",
      "Epoch 22/30\n",
      "2615/2615 - 270s - 103ms/step - accuracy: 0.9622 - loss: 0.9461 - learning_rate: 5.0000e-05\n",
      "Epoch 23/30\n",
      "2615/2615 - 271s - 104ms/step - accuracy: 0.9654 - loss: 0.9422 - learning_rate: 5.0000e-05\n",
      "Epoch 24/30\n",
      "2615/2615 - 271s - 104ms/step - accuracy: 0.9655 - loss: 0.9390 - learning_rate: 5.0000e-05\n",
      "Epoch 25/30\n",
      "2615/2615 - 271s - 104ms/step - accuracy: 0.9656 - loss: 0.9398 - learning_rate: 5.0000e-05\n",
      "Epoch 26/30\n",
      "2615/2615 - 271s - 104ms/step - accuracy: 0.9669 - loss: 0.9364 - learning_rate: 5.0000e-05\n",
      "Epoch 27/30\n",
      "2615/2615 - 271s - 104ms/step - accuracy: 0.9685 - loss: 0.9350 - learning_rate: 5.0000e-05\n",
      "Epoch 28/30\n",
      "2615/2615 - 271s - 104ms/step - accuracy: 0.9700 - loss: 0.9312 - learning_rate: 5.0000e-05\n",
      "Epoch 29/30\n",
      "2615/2615 - 270s - 103ms/step - accuracy: 0.9674 - loss: 0.9344 - learning_rate: 5.0000e-05\n",
      "Epoch 30/30\n",
      "2615/2615 - 271s - 104ms/step - accuracy: 0.9713 - loss: 0.9290 - learning_rate: 5.0000e-05\n",
      "\u001b[1m32/32\u001b[0m \u001b[32m━━━━━━━━━━━━━━━━━━━━\u001b[0m\u001b[37m\u001b[0m \u001b[1m3s\u001b[0m 82ms/step\n"
     ]
    },
    {
     "data": {
      "text/html": [
       "<a href='submissionLoss.csv' target='_blank'>submissionLoss.csv</a><br>"
      ],
      "text/plain": [
       "/kaggle/working/submissionLoss.csv"
      ]
     },
     "execution_count": 13,
     "metadata": {},
     "output_type": "execute_result"
    }
   ],
   "source": [
    "datagen = ImageDataGenerator(\n",
    "    rescale=1./255,\n",
    "    rotation_range=20,      \n",
    "    width_shift_range=0.1,\n",
    "    height_shift_range=0.1,\n",
    "    zoom_range=0.2,\n",
    "    horizontal_flip=True,\n",
    "    #preprocessing_function=add_noise_and_blur,\n",
    ")\n",
    "\n",
    "dataset = datagen.flow_from_directory(\n",
    "    '/kaggle/working/ships_gray',\n",
    "    target_size=image_size2,\n",
    "    batch_size=16,\n",
    "    color_mode='grayscale',\n",
    "    class_mode='categorical'\n",
    ")\n",
    "\n",
    "loss_smooth = tf.keras.losses.CategoricalCrossentropy(label_smoothing=label_smoothing)\n",
    "base_optimizer = Adam(learning_rate=0.00005)\n",
    "optimizer = LossScaleOptimizer(base_optimizer)\n",
    "model.compile(optimizer=optimizer, loss=loss_smooth, metrics=['accuracy'])\n",
    "#model.load_weights('/kaggle/input/adddcanceledacc/best_model2.weights.h5')   ### in case of timeout, continue training using saved weigths from previosu training \n",
    "\n",
    "checkpoint = ModelCheckpoint('/kaggle/working/best_model.weights.h5', save_best_only=True, save_weights_only=True, monitor='loss', mode='min')\n",
    "checkpoint2 = ModelCheckpoint('/kaggle/working/best_model2.weights.h5', save_best_only=True, save_weights_only=True, monitor='accuracy', mode='max')\n",
    "early_stopping = EarlyStopping(monitor='loss', patience=20, verbose=2, mode='min')\n",
    "reduce_lr = ReduceLROnPlateau(monitor='loss', factor=0.5, patience=5, min_lr=0.000001)\n",
    "\n",
    "class_weight_dict_2 = {\n",
    "    'class_weight': 'balanced',\n",
    "    'classes': np.unique(dataset.classes),\n",
    "    'y': dataset.classes\n",
    "}\n",
    "class_weights_2 = compute_class_weight(**class_weight_dict)\n",
    "class_weights_dict_2 = {i: class_weights[i] for i in range(len(class_weights))}\n",
    "\n",
    "history = model.fit(\n",
    "    dataset,\n",
    "    epochs=30,\n",
    "    verbose=2,\n",
    "    callbacks=[reduce_lr, early_stopping, checkpoint, checkpoint2], \n",
    "    class_weight=class_weights_dict_2,\n",
    ")\n",
    "\n",
    "model.load_weights('/kaggle/working/best_model.weights.h5')\n",
    "\n",
    "X_test = np.load('/kaggle/working/test.npy', allow_pickle=True)\n",
    "X_test = X_test.astype('float32') / 255\n",
    "res_all = model.predict(X_test).argmax(axis=1)\n",
    "df = pd.DataFrame({\"Category\":res_all})\n",
    "df.to_csv(\"submissionLoss.csv\", index_label=\"ID\")\n",
    "\n",
    "os.chdir(r'/kaggle/working')\n",
    "FileLink(r'submissionLoss.csv')"
   ]
  },
  {
   "cell_type": "markdown",
   "id": "56f24411",
   "metadata": {
    "papermill": {
     "duration": 0.092844,
     "end_time": "2024-06-12T21:13:54.048116",
     "exception": false,
     "start_time": "2024-06-12T21:13:53.955272",
     "status": "completed"
    },
    "tags": []
   },
   "source": [
    "Instead of only monitoring the loss, we also decided to monitor the accuracy. This approach allows us to save the best epochs for both loss and accuracy, ensuring that we can choose the best model based on different criteria if the best accuracy epoch isn't the same as the best loss epoch."
   ]
  },
  {
   "cell_type": "code",
   "execution_count": 14,
   "id": "d99ea62d",
   "metadata": {
    "execution": {
     "iopub.execute_input": "2024-06-12T21:13:54.245753Z",
     "iopub.status.busy": "2024-06-12T21:13:54.245361Z",
     "iopub.status.idle": "2024-06-12T21:13:56.826287Z",
     "shell.execute_reply": "2024-06-12T21:13:56.825280Z"
    },
    "papermill": {
     "duration": 2.680427,
     "end_time": "2024-06-12T21:13:56.828617",
     "exception": false,
     "start_time": "2024-06-12T21:13:54.148190",
     "status": "completed"
    },
    "tags": []
   },
   "outputs": [
    {
     "name": "stdout",
     "output_type": "stream",
     "text": [
      "\u001b[1m32/32\u001b[0m \u001b[32m━━━━━━━━━━━━━━━━━━━━\u001b[0m\u001b[37m\u001b[0m \u001b[1m2s\u001b[0m 59ms/step\n"
     ]
    },
    {
     "data": {
      "text/html": [
       "<a href='submissionAcc.csv' target='_blank'>submissionAcc.csv</a><br>"
      ],
      "text/plain": [
       "/kaggle/working/submissionAcc.csv"
      ]
     },
     "execution_count": 14,
     "metadata": {},
     "output_type": "execute_result"
    }
   ],
   "source": [
    "model.load_weights('/kaggle/working/best_model2.weights.h5')\n",
    "\n",
    "X_test = np.load('/kaggle/working/test.npy', allow_pickle=True)\n",
    "X_test = X_test.astype('float32') / 255\n",
    "\n",
    "res_all = model.predict(X_test).argmax(axis=1)\n",
    "df = pd.DataFrame({\"Category\":res_all})\n",
    "df.to_csv(\"submissionAcc.csv\", index_label=\"ID\")\n",
    "\n",
    "os.chdir(r'/kaggle/working')\n",
    "FileLink(r'submissionAcc.csv')"
   ]
  },
  {
   "cell_type": "markdown",
   "id": "95b8e400",
   "metadata": {
    "papermill": {
     "duration": 0.09238,
     "end_time": "2024-06-12T21:13:57.015552",
     "exception": false,
     "start_time": "2024-06-12T21:13:56.923172",
     "status": "completed"
    },
    "tags": []
   },
   "source": [
    "### References and Useful Links\n",
    "\n",
    "In this section, we include all the useful links and references that guided our approach and methodology throughout this project. These resources provide valuable insights into various techniques and best practices in machine learning and data science.\n",
    "\n",
    "1. [Data Augmentation for Deep Learning: A Survey](https://arxiv.org/pdf/1906.06423)\n",
    "2. [Bag of Tricks for Image Classification with Convolutional Neural Networks](https://arxiv.org/pdf/1812.01187)\n",
    "3. [Densely Connected Convolutional Networks](http://www.arxiv.org/pdf/1608.06993)\n",
    "4. [Deep Residual Learning for Image Recognition](https://arxiv.org/pdf/1512.03385)\n",
    "5. [LARGE BATCH TRAINING OF CONVOLUTIONAL NETWORKS](https://arxiv.org/pdf/1708.03888)\n",
    "6. [Image Classification Tips & Tricks](https://www.kaggle.com/competitions/rsna-breast-cancer-detection/discussion/372567)\n",
    "7. [Kaggle Petfinder Pawpularity Score Competition Discussion](https://www.kaggle.com/competitions/petfinder-pawpularity-score/discussion/288896)\n",
    "\n",
    "We are really thanksful to this project because it was a challenging task that forced us to make our own research and to progress, it made us grow or at least that's the feeling we have at the end of this competiton, we do fell short on time and have other nice things we would have done that we will not forget to do later.\n"
   ]
  },
  {
   "cell_type": "markdown",
   "id": "28a45e0d",
   "metadata": {
    "papermill": {
     "duration": 0.094106,
     "end_time": "2024-06-12T21:13:57.202030",
     "exception": false,
     "start_time": "2024-06-12T21:13:57.107924",
     "status": "completed"
    },
    "tags": []
   },
   "source": [
    "### Reflections and Gratitude\n",
    "\n",
    "We are truly grateful for this project as it presented a challenging task that required us to conduct extensive research and push our boundaries. This experience has significantly contributed to our growth, both in terms of knowledge and skills.\n",
    "\n",
    "Although we fell short on time and couldn't implement all the ideas we had in mind due to GPU limitations, we have gained valuable insights that we will carry forward into future projects. This competition has been a profound learning journey, and we are excited to continue building on what we have learned.\n"
   ]
  }
 ],
 "metadata": {
  "kaggle": {
   "accelerator": "gpu",
   "dataSources": [
    {
     "databundleVersionId": 8179471,
     "sourceId": 74796,
     "sourceType": "competition"
    }
   ],
   "dockerImageVersionId": 30699,
   "isGpuEnabled": true,
   "isInternetEnabled": false,
   "language": "python",
   "sourceType": "notebook"
  },
  "kernelspec": {
   "display_name": "Python 3",
   "language": "python",
   "name": "python3"
  },
  "language_info": {
   "codemirror_mode": {
    "name": "ipython",
    "version": 3
   },
   "file_extension": ".py",
   "mimetype": "text/x-python",
   "name": "python",
   "nbconvert_exporter": "python",
   "pygments_lexer": "ipython3",
   "version": "3.10.13"
  },
  "papermill": {
   "default_parameters": {},
   "duration": 16872.217487,
   "end_time": "2024-06-12T21:14:01.183704",
   "environment_variables": {},
   "exception": null,
   "input_path": "__notebook__.ipynb",
   "output_path": "__notebook__.ipynb",
   "parameters": {},
   "start_time": "2024-06-12T16:32:48.966217",
   "version": "2.5.0"
  }
 },
 "nbformat": 4,
 "nbformat_minor": 5
}
